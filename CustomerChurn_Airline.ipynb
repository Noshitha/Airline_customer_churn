{
 "cells": [
  {
   "cell_type": "markdown",
   "metadata": {},
   "source": [
    "#### AIM IS TO CLASSIFY WHETHER  CUSTOMER WILL CHURN OUT OR NOT ALONG WITH PROABABILITIES"
   ]
  },
  {
   "cell_type": "code",
   "execution_count": 1,
   "metadata": {
    "scrolled": false
   },
   "outputs": [],
   "source": [
    "import pandas as pd\n",
    "import numpy as np\n",
    "import seaborn as sns\n",
    "import matplotlib.pyplot as plt\n",
    "from sklearn.model_selection import train_test_split\n",
    "from sklearn.linear_model import LogisticRegression\n",
    "from sklearn import metrics\n",
    "from sklearn import preprocessing\n",
    "from sklearn.metrics import classification_report\n",
    "import scipy.stats as stats\n",
    "import statsmodels.formula.api as smf\n",
    "import statsmodels.api as sm\n",
    "from sklearn.metrics import confusion_matrix"
   ]
  },
  {
   "cell_type": "code",
   "execution_count": 2,
   "metadata": {},
   "outputs": [],
   "source": [
    "air=pd.read_csv(\"/Users/noshitha/Downloads/MemberAttrition.csv\")"
   ]
  },
  {
   "cell_type": "markdown",
   "metadata": {},
   "source": [
    "## EXPLORATORY DATA ANALYSIS"
   ]
  },
  {
   "cell_type": "markdown",
   "metadata": {},
   "source": [
    "ACCORDING TO THE GIVEN PROBLEM IT IS MULTIVARIATE ANALYSIS."
   ]
  },
  {
   "cell_type": "code",
   "execution_count": 3,
   "metadata": {},
   "outputs": [
    {
     "data": {
      "text/plain": [
       "Index(['Unnamed: 0', 'AGE', 'GENDER', 'IS_COBRAND', 'TIER', 'YEARS_IN_PROGRAM',\n",
       "       'IS_AIRACCRUAL', 'IS_HOTELREDEMPTION', 'IS_INACTIVE'],\n",
       "      dtype='object')"
      ]
     },
     "execution_count": 3,
     "metadata": {},
     "output_type": "execute_result"
    }
   ],
   "source": [
    "air.columns"
   ]
  },
  {
   "cell_type": "code",
   "execution_count": 4,
   "metadata": {},
   "outputs": [],
   "source": [
    "air=air.drop(columns=['Unnamed: 0'])"
   ]
  },
  {
   "cell_type": "code",
   "execution_count": 5,
   "metadata": {},
   "outputs": [
    {
     "data": {
      "text/plain": [
       "(100000, 8)"
      ]
     },
     "execution_count": 5,
     "metadata": {},
     "output_type": "execute_result"
    }
   ],
   "source": [
    "air.shape"
   ]
  },
  {
   "cell_type": "code",
   "execution_count": 6,
   "metadata": {},
   "outputs": [
    {
     "data": {
      "text/plain": [
       "2"
      ]
     },
     "execution_count": 6,
     "metadata": {},
     "output_type": "execute_result"
    }
   ],
   "source": [
    "air.ndim"
   ]
  },
  {
   "cell_type": "code",
   "execution_count": 7,
   "metadata": {},
   "outputs": [
    {
     "data": {
      "text/plain": [
       "<bound method DataFrame.nunique of        AGE   GENDER  IS_COBRAND      TIER  YEARS_IN_PROGRAM  IS_AIRACCRUAL  \\\n",
       "0       60     male           0      gold                 3              1   \n",
       "1       74     male           1      base                 2              0   \n",
       "2       29   female           0      gold                11              0   \n",
       "3       25  unknown           0      gold                 3              1   \n",
       "4       29   female           1      base                 8              1   \n",
       "...    ...      ...         ...       ...               ...            ...   \n",
       "99995   37   female           1  platinum                 1              1   \n",
       "99996   20     male           1      base                 5              1   \n",
       "99997   65     male           0      gold                 2              1   \n",
       "99998   71  unknown           0  platinum                 7              0   \n",
       "99999   52  unknown           1  platinum                 3              1   \n",
       "\n",
       "       IS_HOTELREDEMPTION  IS_INACTIVE  \n",
       "0                       0            1  \n",
       "1                       1            0  \n",
       "2                       1            0  \n",
       "3                       1            0  \n",
       "4                       1            1  \n",
       "...                   ...          ...  \n",
       "99995                   0            1  \n",
       "99996                   0            1  \n",
       "99997                   0            1  \n",
       "99998                   0            1  \n",
       "99999                   0            0  \n",
       "\n",
       "[100000 rows x 8 columns]>"
      ]
     },
     "execution_count": 7,
     "metadata": {},
     "output_type": "execute_result"
    }
   ],
   "source": [
    "air.nunique"
   ]
  },
  {
   "cell_type": "markdown",
   "metadata": {},
   "source": [
    "### META DATA (DATA PROFILING)"
   ]
  },
  {
   "cell_type": "markdown",
   "metadata": {},
   "source": [
    "Given Data has 8 independent varaibles and 1 dependent variable"
   ]
  },
  {
   "cell_type": "markdown",
   "metadata": {},
   "source": [
    "INDEPENDENT VARIABLES ARE::"
   ]
  },
  {
   "cell_type": "markdown",
   "metadata": {},
   "source": [
    "1)\"Unnamed:0 \"is the name of the customers but represented in numericals and does not have effect on output variable."
   ]
  },
  {
   "cell_type": "markdown",
   "metadata": {},
   "source": [
    "2) \"AGE\" represents age of the customer (It is continous data)"
   ]
  },
  {
   "cell_type": "markdown",
   "metadata": {},
   "source": [
    "3) \"GENDER\" describes the gender of the customer( It is categorical - male,female)"
   ]
  },
  {
   "cell_type": "markdown",
   "metadata": {},
   "source": [
    "4)  IS_COBRAND describes whether customer have subscription in other airlines.(Categorical -0(no),1(yes)"
   ]
  },
  {
   "cell_type": "markdown",
   "metadata": {},
   "source": [
    "5) \"TIER\" describes the type of subscription they have ( Categorical - base,gold ,platinum and silver)"
   ]
  },
  {
   "cell_type": "markdown",
   "metadata": {},
   "source": [
    "6) \"YEARS_IN_PROGRAM\" describes no.of years customers are using the airlines company.(It is continous )"
   ]
  },
  {
   "cell_type": "markdown",
   "metadata": {},
   "source": [
    " 7) \" IS_AIRACCruAL \" descrbes whether the airlines ticket prices or expenses increased (Categorical -0(no),1(yes)"
   ]
  },
  {
   "cell_type": "markdown",
   "metadata": {},
   "source": [
    "\n",
    "8) \"IS_HOTEL REDEMPTION\" describes whether they have used previlage points at hotels.(Categorical -0(no),1(yes)"
   ]
  },
  {
   "cell_type": "markdown",
   "metadata": {},
   "source": [
    "DEPENDENT VARIABLE:::\n",
    " \"IS_INACTIVE\" describes whether he is actively using the airlines or not( Categorical -0(no),1(yes)"
   ]
  },
  {
   "cell_type": "code",
   "execution_count": 8,
   "metadata": {
    "scrolled": true
   },
   "outputs": [
    {
     "data": {
      "text/html": [
       "<div>\n",
       "<style scoped>\n",
       "    .dataframe tbody tr th:only-of-type {\n",
       "        vertical-align: middle;\n",
       "    }\n",
       "\n",
       "    .dataframe tbody tr th {\n",
       "        vertical-align: top;\n",
       "    }\n",
       "\n",
       "    .dataframe thead th {\n",
       "        text-align: right;\n",
       "    }\n",
       "</style>\n",
       "<table border=\"1\" class=\"dataframe\">\n",
       "  <thead>\n",
       "    <tr style=\"text-align: right;\">\n",
       "      <th></th>\n",
       "      <th>AGE</th>\n",
       "      <th>GENDER</th>\n",
       "      <th>IS_COBRAND</th>\n",
       "      <th>TIER</th>\n",
       "      <th>YEARS_IN_PROGRAM</th>\n",
       "      <th>IS_AIRACCRUAL</th>\n",
       "      <th>IS_HOTELREDEMPTION</th>\n",
       "      <th>IS_INACTIVE</th>\n",
       "    </tr>\n",
       "  </thead>\n",
       "  <tbody>\n",
       "    <tr>\n",
       "      <th>0</th>\n",
       "      <td>60</td>\n",
       "      <td>male</td>\n",
       "      <td>0</td>\n",
       "      <td>gold</td>\n",
       "      <td>3</td>\n",
       "      <td>1</td>\n",
       "      <td>0</td>\n",
       "      <td>1</td>\n",
       "    </tr>\n",
       "    <tr>\n",
       "      <th>1</th>\n",
       "      <td>74</td>\n",
       "      <td>male</td>\n",
       "      <td>1</td>\n",
       "      <td>base</td>\n",
       "      <td>2</td>\n",
       "      <td>0</td>\n",
       "      <td>1</td>\n",
       "      <td>0</td>\n",
       "    </tr>\n",
       "    <tr>\n",
       "      <th>2</th>\n",
       "      <td>29</td>\n",
       "      <td>female</td>\n",
       "      <td>0</td>\n",
       "      <td>gold</td>\n",
       "      <td>11</td>\n",
       "      <td>0</td>\n",
       "      <td>1</td>\n",
       "      <td>0</td>\n",
       "    </tr>\n",
       "    <tr>\n",
       "      <th>3</th>\n",
       "      <td>25</td>\n",
       "      <td>unknown</td>\n",
       "      <td>0</td>\n",
       "      <td>gold</td>\n",
       "      <td>3</td>\n",
       "      <td>1</td>\n",
       "      <td>1</td>\n",
       "      <td>0</td>\n",
       "    </tr>\n",
       "    <tr>\n",
       "      <th>4</th>\n",
       "      <td>29</td>\n",
       "      <td>female</td>\n",
       "      <td>1</td>\n",
       "      <td>base</td>\n",
       "      <td>8</td>\n",
       "      <td>1</td>\n",
       "      <td>1</td>\n",
       "      <td>1</td>\n",
       "    </tr>\n",
       "  </tbody>\n",
       "</table>\n",
       "</div>"
      ],
      "text/plain": [
       "   AGE   GENDER  IS_COBRAND  TIER  YEARS_IN_PROGRAM  IS_AIRACCRUAL  \\\n",
       "0   60     male           0  gold                 3              1   \n",
       "1   74     male           1  base                 2              0   \n",
       "2   29   female           0  gold                11              0   \n",
       "3   25  unknown           0  gold                 3              1   \n",
       "4   29   female           1  base                 8              1   \n",
       "\n",
       "   IS_HOTELREDEMPTION  IS_INACTIVE  \n",
       "0                   0            1  \n",
       "1                   1            0  \n",
       "2                   1            0  \n",
       "3                   1            0  \n",
       "4                   1            1  "
      ]
     },
     "execution_count": 8,
     "metadata": {},
     "output_type": "execute_result"
    }
   ],
   "source": [
    "air.head()"
   ]
  },
  {
   "cell_type": "code",
   "execution_count": 9,
   "metadata": {
    "scrolled": true
   },
   "outputs": [
    {
     "data": {
      "text/html": [
       "<div>\n",
       "<style scoped>\n",
       "    .dataframe tbody tr th:only-of-type {\n",
       "        vertical-align: middle;\n",
       "    }\n",
       "\n",
       "    .dataframe tbody tr th {\n",
       "        vertical-align: top;\n",
       "    }\n",
       "\n",
       "    .dataframe thead th {\n",
       "        text-align: right;\n",
       "    }\n",
       "</style>\n",
       "<table border=\"1\" class=\"dataframe\">\n",
       "  <thead>\n",
       "    <tr style=\"text-align: right;\">\n",
       "      <th></th>\n",
       "      <th>AGE</th>\n",
       "      <th>GENDER</th>\n",
       "      <th>IS_COBRAND</th>\n",
       "      <th>TIER</th>\n",
       "      <th>YEARS_IN_PROGRAM</th>\n",
       "      <th>IS_AIRACCRUAL</th>\n",
       "      <th>IS_HOTELREDEMPTION</th>\n",
       "      <th>IS_INACTIVE</th>\n",
       "    </tr>\n",
       "  </thead>\n",
       "  <tbody>\n",
       "    <tr>\n",
       "      <th>99995</th>\n",
       "      <td>37</td>\n",
       "      <td>female</td>\n",
       "      <td>1</td>\n",
       "      <td>platinum</td>\n",
       "      <td>1</td>\n",
       "      <td>1</td>\n",
       "      <td>0</td>\n",
       "      <td>1</td>\n",
       "    </tr>\n",
       "    <tr>\n",
       "      <th>99996</th>\n",
       "      <td>20</td>\n",
       "      <td>male</td>\n",
       "      <td>1</td>\n",
       "      <td>base</td>\n",
       "      <td>5</td>\n",
       "      <td>1</td>\n",
       "      <td>0</td>\n",
       "      <td>1</td>\n",
       "    </tr>\n",
       "    <tr>\n",
       "      <th>99997</th>\n",
       "      <td>65</td>\n",
       "      <td>male</td>\n",
       "      <td>0</td>\n",
       "      <td>gold</td>\n",
       "      <td>2</td>\n",
       "      <td>1</td>\n",
       "      <td>0</td>\n",
       "      <td>1</td>\n",
       "    </tr>\n",
       "    <tr>\n",
       "      <th>99998</th>\n",
       "      <td>71</td>\n",
       "      <td>unknown</td>\n",
       "      <td>0</td>\n",
       "      <td>platinum</td>\n",
       "      <td>7</td>\n",
       "      <td>0</td>\n",
       "      <td>0</td>\n",
       "      <td>1</td>\n",
       "    </tr>\n",
       "    <tr>\n",
       "      <th>99999</th>\n",
       "      <td>52</td>\n",
       "      <td>unknown</td>\n",
       "      <td>1</td>\n",
       "      <td>platinum</td>\n",
       "      <td>3</td>\n",
       "      <td>1</td>\n",
       "      <td>0</td>\n",
       "      <td>0</td>\n",
       "    </tr>\n",
       "  </tbody>\n",
       "</table>\n",
       "</div>"
      ],
      "text/plain": [
       "       AGE   GENDER  IS_COBRAND      TIER  YEARS_IN_PROGRAM  IS_AIRACCRUAL  \\\n",
       "99995   37   female           1  platinum                 1              1   \n",
       "99996   20     male           1      base                 5              1   \n",
       "99997   65     male           0      gold                 2              1   \n",
       "99998   71  unknown           0  platinum                 7              0   \n",
       "99999   52  unknown           1  platinum                 3              1   \n",
       "\n",
       "       IS_HOTELREDEMPTION  IS_INACTIVE  \n",
       "99995                   0            1  \n",
       "99996                   0            1  \n",
       "99997                   0            1  \n",
       "99998                   0            1  \n",
       "99999                   0            0  "
      ]
     },
     "execution_count": 9,
     "metadata": {},
     "output_type": "execute_result"
    }
   ],
   "source": [
    "air.tail()"
   ]
  },
  {
   "cell_type": "markdown",
   "metadata": {},
   "source": [
    "# DATA TYPES IN DATA SET"
   ]
  },
  {
   "cell_type": "code",
   "execution_count": 10,
   "metadata": {
    "scrolled": true
   },
   "outputs": [
    {
     "name": "stdout",
     "output_type": "stream",
     "text": [
      "<class 'pandas.core.frame.DataFrame'>\n",
      "RangeIndex: 100000 entries, 0 to 99999\n",
      "Data columns (total 8 columns):\n",
      " #   Column              Non-Null Count   Dtype \n",
      "---  ------              --------------   ----- \n",
      " 0   AGE                 100000 non-null  int64 \n",
      " 1   GENDER              100000 non-null  object\n",
      " 2   IS_COBRAND          100000 non-null  int64 \n",
      " 3   TIER                100000 non-null  object\n",
      " 4   YEARS_IN_PROGRAM    100000 non-null  int64 \n",
      " 5   IS_AIRACCRUAL       100000 non-null  int64 \n",
      " 6   IS_HOTELREDEMPTION  100000 non-null  int64 \n",
      " 7   IS_INACTIVE         100000 non-null  int64 \n",
      "dtypes: int64(6), object(2)\n",
      "memory usage: 6.1+ MB\n"
     ]
    }
   ],
   "source": [
    "air.info()"
   ]
  },
  {
   "cell_type": "code",
   "execution_count": 11,
   "metadata": {
    "scrolled": true
   },
   "outputs": [
    {
     "data": {
      "text/html": [
       "<div>\n",
       "<style scoped>\n",
       "    .dataframe tbody tr th:only-of-type {\n",
       "        vertical-align: middle;\n",
       "    }\n",
       "\n",
       "    .dataframe tbody tr th {\n",
       "        vertical-align: top;\n",
       "    }\n",
       "\n",
       "    .dataframe thead th {\n",
       "        text-align: right;\n",
       "    }\n",
       "</style>\n",
       "<table border=\"1\" class=\"dataframe\">\n",
       "  <thead>\n",
       "    <tr style=\"text-align: right;\">\n",
       "      <th></th>\n",
       "      <th>AGE</th>\n",
       "      <th>IS_COBRAND</th>\n",
       "      <th>YEARS_IN_PROGRAM</th>\n",
       "      <th>IS_AIRACCRUAL</th>\n",
       "      <th>IS_HOTELREDEMPTION</th>\n",
       "      <th>IS_INACTIVE</th>\n",
       "    </tr>\n",
       "  </thead>\n",
       "  <tbody>\n",
       "    <tr>\n",
       "      <th>count</th>\n",
       "      <td>100000.000000</td>\n",
       "      <td>100000.000000</td>\n",
       "      <td>100000.000000</td>\n",
       "      <td>100000.000000</td>\n",
       "      <td>100000.00000</td>\n",
       "      <td>100000.000000</td>\n",
       "    </tr>\n",
       "    <tr>\n",
       "      <th>mean</th>\n",
       "      <td>42.918470</td>\n",
       "      <td>0.499570</td>\n",
       "      <td>5.992720</td>\n",
       "      <td>0.498770</td>\n",
       "      <td>0.50166</td>\n",
       "      <td>0.502590</td>\n",
       "    </tr>\n",
       "    <tr>\n",
       "      <th>std</th>\n",
       "      <td>18.196176</td>\n",
       "      <td>0.500002</td>\n",
       "      <td>3.164713</td>\n",
       "      <td>0.500001</td>\n",
       "      <td>0.50000</td>\n",
       "      <td>0.499996</td>\n",
       "    </tr>\n",
       "    <tr>\n",
       "      <th>min</th>\n",
       "      <td>12.000000</td>\n",
       "      <td>0.000000</td>\n",
       "      <td>1.000000</td>\n",
       "      <td>0.000000</td>\n",
       "      <td>0.00000</td>\n",
       "      <td>0.000000</td>\n",
       "    </tr>\n",
       "    <tr>\n",
       "      <th>25%</th>\n",
       "      <td>27.000000</td>\n",
       "      <td>0.000000</td>\n",
       "      <td>3.000000</td>\n",
       "      <td>0.000000</td>\n",
       "      <td>0.00000</td>\n",
       "      <td>0.000000</td>\n",
       "    </tr>\n",
       "    <tr>\n",
       "      <th>50%</th>\n",
       "      <td>43.000000</td>\n",
       "      <td>0.000000</td>\n",
       "      <td>6.000000</td>\n",
       "      <td>0.000000</td>\n",
       "      <td>1.00000</td>\n",
       "      <td>1.000000</td>\n",
       "    </tr>\n",
       "    <tr>\n",
       "      <th>75%</th>\n",
       "      <td>59.000000</td>\n",
       "      <td>1.000000</td>\n",
       "      <td>9.000000</td>\n",
       "      <td>1.000000</td>\n",
       "      <td>1.00000</td>\n",
       "      <td>1.000000</td>\n",
       "    </tr>\n",
       "    <tr>\n",
       "      <th>max</th>\n",
       "      <td>74.000000</td>\n",
       "      <td>1.000000</td>\n",
       "      <td>11.000000</td>\n",
       "      <td>1.000000</td>\n",
       "      <td>1.00000</td>\n",
       "      <td>1.000000</td>\n",
       "    </tr>\n",
       "  </tbody>\n",
       "</table>\n",
       "</div>"
      ],
      "text/plain": [
       "                 AGE     IS_COBRAND  YEARS_IN_PROGRAM  IS_AIRACCRUAL  \\\n",
       "count  100000.000000  100000.000000     100000.000000  100000.000000   \n",
       "mean       42.918470       0.499570          5.992720       0.498770   \n",
       "std        18.196176       0.500002          3.164713       0.500001   \n",
       "min        12.000000       0.000000          1.000000       0.000000   \n",
       "25%        27.000000       0.000000          3.000000       0.000000   \n",
       "50%        43.000000       0.000000          6.000000       0.000000   \n",
       "75%        59.000000       1.000000          9.000000       1.000000   \n",
       "max        74.000000       1.000000         11.000000       1.000000   \n",
       "\n",
       "       IS_HOTELREDEMPTION    IS_INACTIVE  \n",
       "count        100000.00000  100000.000000  \n",
       "mean              0.50166       0.502590  \n",
       "std               0.50000       0.499996  \n",
       "min               0.00000       0.000000  \n",
       "25%               0.00000       0.000000  \n",
       "50%               1.00000       1.000000  \n",
       "75%               1.00000       1.000000  \n",
       "max               1.00000       1.000000  "
      ]
     },
     "execution_count": 11,
     "metadata": {},
     "output_type": "execute_result"
    }
   ],
   "source": [
    "air[air.columns].describe()"
   ]
  },
  {
   "cell_type": "code",
   "execution_count": 12,
   "metadata": {},
   "outputs": [
    {
     "data": {
      "text/plain": [
       "AGE                    int64\n",
       "GENDER                object\n",
       "IS_COBRAND             int64\n",
       "TIER                  object\n",
       "YEARS_IN_PROGRAM       int64\n",
       "IS_AIRACCRUAL          int64\n",
       "IS_HOTELREDEMPTION     int64\n",
       "IS_INACTIVE            int64\n",
       "dtype: object"
      ]
     },
     "execution_count": 12,
     "metadata": {},
     "output_type": "execute_result"
    }
   ],
   "source": [
    "air.dtypes"
   ]
  },
  {
   "cell_type": "markdown",
   "metadata": {},
   "source": [
    "##### DETAILED STATISTICAL ANALYSIS OF EACH ATTRIBUTE"
   ]
  },
  {
   "cell_type": "code",
   "execution_count": 13,
   "metadata": {},
   "outputs": [
    {
     "data": {
      "text/html": [
       "<div>\n",
       "<style scoped>\n",
       "    .dataframe tbody tr th:only-of-type {\n",
       "        vertical-align: middle;\n",
       "    }\n",
       "\n",
       "    .dataframe tbody tr th {\n",
       "        vertical-align: top;\n",
       "    }\n",
       "\n",
       "    .dataframe thead tr th {\n",
       "        text-align: left;\n",
       "    }\n",
       "</style>\n",
       "<table border=\"1\" class=\"dataframe\">\n",
       "  <thead>\n",
       "    <tr>\n",
       "      <th></th>\n",
       "      <th>GENDER</th>\n",
       "      <th colspan=\"8\" halign=\"left\">AGE</th>\n",
       "      <th>IS_COBRAND</th>\n",
       "      <th>...</th>\n",
       "      <th colspan=\"2\" halign=\"left\">IS_HOTELREDEMPTION</th>\n",
       "      <th colspan=\"8\" halign=\"left\">IS_INACTIVE</th>\n",
       "    </tr>\n",
       "    <tr>\n",
       "      <th></th>\n",
       "      <th></th>\n",
       "      <th>count</th>\n",
       "      <th>mean</th>\n",
       "      <th>std</th>\n",
       "      <th>min</th>\n",
       "      <th>25%</th>\n",
       "      <th>50%</th>\n",
       "      <th>75%</th>\n",
       "      <th>max</th>\n",
       "      <th>count</th>\n",
       "      <th>...</th>\n",
       "      <th>75%</th>\n",
       "      <th>max</th>\n",
       "      <th>count</th>\n",
       "      <th>mean</th>\n",
       "      <th>std</th>\n",
       "      <th>min</th>\n",
       "      <th>25%</th>\n",
       "      <th>50%</th>\n",
       "      <th>75%</th>\n",
       "      <th>max</th>\n",
       "    </tr>\n",
       "  </thead>\n",
       "  <tbody>\n",
       "    <tr>\n",
       "      <th>0</th>\n",
       "      <td>female</td>\n",
       "      <td>33289.0</td>\n",
       "      <td>42.812701</td>\n",
       "      <td>18.212057</td>\n",
       "      <td>12.0</td>\n",
       "      <td>27.0</td>\n",
       "      <td>43.0</td>\n",
       "      <td>59.0</td>\n",
       "      <td>74.0</td>\n",
       "      <td>33289.0</td>\n",
       "      <td>...</td>\n",
       "      <td>1.0</td>\n",
       "      <td>1.0</td>\n",
       "      <td>33289.0</td>\n",
       "      <td>0.503079</td>\n",
       "      <td>0.499998</td>\n",
       "      <td>0.0</td>\n",
       "      <td>0.0</td>\n",
       "      <td>1.0</td>\n",
       "      <td>1.0</td>\n",
       "      <td>1.0</td>\n",
       "    </tr>\n",
       "    <tr>\n",
       "      <th>1</th>\n",
       "      <td>male</td>\n",
       "      <td>33565.0</td>\n",
       "      <td>43.062804</td>\n",
       "      <td>18.181332</td>\n",
       "      <td>12.0</td>\n",
       "      <td>27.0</td>\n",
       "      <td>43.0</td>\n",
       "      <td>59.0</td>\n",
       "      <td>74.0</td>\n",
       "      <td>33565.0</td>\n",
       "      <td>...</td>\n",
       "      <td>1.0</td>\n",
       "      <td>1.0</td>\n",
       "      <td>33565.0</td>\n",
       "      <td>0.503084</td>\n",
       "      <td>0.499998</td>\n",
       "      <td>0.0</td>\n",
       "      <td>0.0</td>\n",
       "      <td>1.0</td>\n",
       "      <td>1.0</td>\n",
       "      <td>1.0</td>\n",
       "    </tr>\n",
       "    <tr>\n",
       "      <th>2</th>\n",
       "      <td>unknown</td>\n",
       "      <td>33146.0</td>\n",
       "      <td>42.878537</td>\n",
       "      <td>18.194863</td>\n",
       "      <td>12.0</td>\n",
       "      <td>27.0</td>\n",
       "      <td>43.0</td>\n",
       "      <td>59.0</td>\n",
       "      <td>74.0</td>\n",
       "      <td>33146.0</td>\n",
       "      <td>...</td>\n",
       "      <td>1.0</td>\n",
       "      <td>1.0</td>\n",
       "      <td>33146.0</td>\n",
       "      <td>0.501599</td>\n",
       "      <td>0.500005</td>\n",
       "      <td>0.0</td>\n",
       "      <td>0.0</td>\n",
       "      <td>1.0</td>\n",
       "      <td>1.0</td>\n",
       "      <td>1.0</td>\n",
       "    </tr>\n",
       "  </tbody>\n",
       "</table>\n",
       "<p>3 rows × 49 columns</p>\n",
       "</div>"
      ],
      "text/plain": [
       "    GENDER      AGE                                                      \\\n",
       "              count       mean        std   min   25%   50%   75%   max   \n",
       "0   female  33289.0  42.812701  18.212057  12.0  27.0  43.0  59.0  74.0   \n",
       "1     male  33565.0  43.062804  18.181332  12.0  27.0  43.0  59.0  74.0   \n",
       "2  unknown  33146.0  42.878537  18.194863  12.0  27.0  43.0  59.0  74.0   \n",
       "\n",
       "  IS_COBRAND  ... IS_HOTELREDEMPTION      IS_INACTIVE                      \\\n",
       "       count  ...                75%  max       count      mean       std   \n",
       "0    33289.0  ...                1.0  1.0     33289.0  0.503079  0.499998   \n",
       "1    33565.0  ...                1.0  1.0     33565.0  0.503084  0.499998   \n",
       "2    33146.0  ...                1.0  1.0     33146.0  0.501599  0.500005   \n",
       "\n",
       "                            \n",
       "   min  25%  50%  75%  max  \n",
       "0  0.0  0.0  1.0  1.0  1.0  \n",
       "1  0.0  0.0  1.0  1.0  1.0  \n",
       "2  0.0  0.0  1.0  1.0  1.0  \n",
       "\n",
       "[3 rows x 49 columns]"
      ]
     },
     "execution_count": 13,
     "metadata": {},
     "output_type": "execute_result"
    }
   ],
   "source": [
    "air.groupby(air['GENDER']).describe().reset_index()"
   ]
  },
  {
   "cell_type": "markdown",
   "metadata": {},
   "source": [
    "We need to replace unknown with mode of gender attribute"
   ]
  },
  {
   "cell_type": "code",
   "execution_count": 14,
   "metadata": {},
   "outputs": [
    {
     "data": {
      "text/html": [
       "<div>\n",
       "<style scoped>\n",
       "    .dataframe tbody tr th:only-of-type {\n",
       "        vertical-align: middle;\n",
       "    }\n",
       "\n",
       "    .dataframe tbody tr th {\n",
       "        vertical-align: top;\n",
       "    }\n",
       "\n",
       "    .dataframe thead tr th {\n",
       "        text-align: left;\n",
       "    }\n",
       "</style>\n",
       "<table border=\"1\" class=\"dataframe\">\n",
       "  <thead>\n",
       "    <tr>\n",
       "      <th></th>\n",
       "      <th>IS_COBRAND</th>\n",
       "      <th colspan=\"8\" halign=\"left\">AGE</th>\n",
       "      <th>YEARS_IN_PROGRAM</th>\n",
       "      <th>...</th>\n",
       "      <th colspan=\"2\" halign=\"left\">IS_HOTELREDEMPTION</th>\n",
       "      <th colspan=\"8\" halign=\"left\">IS_INACTIVE</th>\n",
       "    </tr>\n",
       "    <tr>\n",
       "      <th></th>\n",
       "      <th></th>\n",
       "      <th>count</th>\n",
       "      <th>mean</th>\n",
       "      <th>std</th>\n",
       "      <th>min</th>\n",
       "      <th>25%</th>\n",
       "      <th>50%</th>\n",
       "      <th>75%</th>\n",
       "      <th>max</th>\n",
       "      <th>count</th>\n",
       "      <th>...</th>\n",
       "      <th>75%</th>\n",
       "      <th>max</th>\n",
       "      <th>count</th>\n",
       "      <th>mean</th>\n",
       "      <th>std</th>\n",
       "      <th>min</th>\n",
       "      <th>25%</th>\n",
       "      <th>50%</th>\n",
       "      <th>75%</th>\n",
       "      <th>max</th>\n",
       "    </tr>\n",
       "  </thead>\n",
       "  <tbody>\n",
       "    <tr>\n",
       "      <th>0</th>\n",
       "      <td>0</td>\n",
       "      <td>50043.0</td>\n",
       "      <td>42.931879</td>\n",
       "      <td>18.246874</td>\n",
       "      <td>12.0</td>\n",
       "      <td>27.0</td>\n",
       "      <td>43.0</td>\n",
       "      <td>59.0</td>\n",
       "      <td>74.0</td>\n",
       "      <td>50043.0</td>\n",
       "      <td>...</td>\n",
       "      <td>1.0</td>\n",
       "      <td>1.0</td>\n",
       "      <td>50043.0</td>\n",
       "      <td>0.503367</td>\n",
       "      <td>0.499994</td>\n",
       "      <td>0.0</td>\n",
       "      <td>0.0</td>\n",
       "      <td>1.0</td>\n",
       "      <td>1.0</td>\n",
       "      <td>1.0</td>\n",
       "    </tr>\n",
       "    <tr>\n",
       "      <th>1</th>\n",
       "      <td>1</td>\n",
       "      <td>49957.0</td>\n",
       "      <td>42.905038</td>\n",
       "      <td>18.145422</td>\n",
       "      <td>12.0</td>\n",
       "      <td>27.0</td>\n",
       "      <td>43.0</td>\n",
       "      <td>59.0</td>\n",
       "      <td>74.0</td>\n",
       "      <td>49957.0</td>\n",
       "      <td>...</td>\n",
       "      <td>1.0</td>\n",
       "      <td>1.0</td>\n",
       "      <td>49957.0</td>\n",
       "      <td>0.501812</td>\n",
       "      <td>0.500002</td>\n",
       "      <td>0.0</td>\n",
       "      <td>0.0</td>\n",
       "      <td>1.0</td>\n",
       "      <td>1.0</td>\n",
       "      <td>1.0</td>\n",
       "    </tr>\n",
       "  </tbody>\n",
       "</table>\n",
       "<p>2 rows × 41 columns</p>\n",
       "</div>"
      ],
      "text/plain": [
       "  IS_COBRAND      AGE                                                      \\\n",
       "                count       mean        std   min   25%   50%   75%   max   \n",
       "0          0  50043.0  42.931879  18.246874  12.0  27.0  43.0  59.0  74.0   \n",
       "1          1  49957.0  42.905038  18.145422  12.0  27.0  43.0  59.0  74.0   \n",
       "\n",
       "  YEARS_IN_PROGRAM  ... IS_HOTELREDEMPTION      IS_INACTIVE            \\\n",
       "             count  ...                75%  max       count      mean   \n",
       "0          50043.0  ...                1.0  1.0     50043.0  0.503367   \n",
       "1          49957.0  ...                1.0  1.0     49957.0  0.501812   \n",
       "\n",
       "                                      \n",
       "        std  min  25%  50%  75%  max  \n",
       "0  0.499994  0.0  0.0  1.0  1.0  1.0  \n",
       "1  0.500002  0.0  0.0  1.0  1.0  1.0  \n",
       "\n",
       "[2 rows x 41 columns]"
      ]
     },
     "execution_count": 14,
     "metadata": {},
     "output_type": "execute_result"
    }
   ],
   "source": [
    "air.groupby(air['IS_COBRAND']).describe().reset_index()"
   ]
  },
  {
   "cell_type": "code",
   "execution_count": 15,
   "metadata": {},
   "outputs": [
    {
     "data": {
      "text/html": [
       "<div>\n",
       "<style scoped>\n",
       "    .dataframe tbody tr th:only-of-type {\n",
       "        vertical-align: middle;\n",
       "    }\n",
       "\n",
       "    .dataframe tbody tr th {\n",
       "        vertical-align: top;\n",
       "    }\n",
       "\n",
       "    .dataframe thead tr th {\n",
       "        text-align: left;\n",
       "    }\n",
       "</style>\n",
       "<table border=\"1\" class=\"dataframe\">\n",
       "  <thead>\n",
       "    <tr>\n",
       "      <th></th>\n",
       "      <th>TIER</th>\n",
       "      <th colspan=\"8\" halign=\"left\">AGE</th>\n",
       "      <th>IS_COBRAND</th>\n",
       "      <th>...</th>\n",
       "      <th colspan=\"2\" halign=\"left\">IS_HOTELREDEMPTION</th>\n",
       "      <th colspan=\"8\" halign=\"left\">IS_INACTIVE</th>\n",
       "    </tr>\n",
       "    <tr>\n",
       "      <th></th>\n",
       "      <th></th>\n",
       "      <th>count</th>\n",
       "      <th>mean</th>\n",
       "      <th>std</th>\n",
       "      <th>min</th>\n",
       "      <th>25%</th>\n",
       "      <th>50%</th>\n",
       "      <th>75%</th>\n",
       "      <th>max</th>\n",
       "      <th>count</th>\n",
       "      <th>...</th>\n",
       "      <th>75%</th>\n",
       "      <th>max</th>\n",
       "      <th>count</th>\n",
       "      <th>mean</th>\n",
       "      <th>std</th>\n",
       "      <th>min</th>\n",
       "      <th>25%</th>\n",
       "      <th>50%</th>\n",
       "      <th>75%</th>\n",
       "      <th>max</th>\n",
       "    </tr>\n",
       "  </thead>\n",
       "  <tbody>\n",
       "    <tr>\n",
       "      <th>0</th>\n",
       "      <td>base</td>\n",
       "      <td>24784.0</td>\n",
       "      <td>42.796078</td>\n",
       "      <td>18.176227</td>\n",
       "      <td>12.0</td>\n",
       "      <td>27.0</td>\n",
       "      <td>43.0</td>\n",
       "      <td>59.0</td>\n",
       "      <td>74.0</td>\n",
       "      <td>24784.0</td>\n",
       "      <td>...</td>\n",
       "      <td>1.0</td>\n",
       "      <td>1.0</td>\n",
       "      <td>24784.0</td>\n",
       "      <td>0.507222</td>\n",
       "      <td>0.499958</td>\n",
       "      <td>0.0</td>\n",
       "      <td>0.0</td>\n",
       "      <td>1.0</td>\n",
       "      <td>1.0</td>\n",
       "      <td>1.0</td>\n",
       "    </tr>\n",
       "    <tr>\n",
       "      <th>1</th>\n",
       "      <td>gold</td>\n",
       "      <td>25206.0</td>\n",
       "      <td>43.005634</td>\n",
       "      <td>18.199851</td>\n",
       "      <td>12.0</td>\n",
       "      <td>27.0</td>\n",
       "      <td>43.0</td>\n",
       "      <td>59.0</td>\n",
       "      <td>74.0</td>\n",
       "      <td>25206.0</td>\n",
       "      <td>...</td>\n",
       "      <td>1.0</td>\n",
       "      <td>1.0</td>\n",
       "      <td>25206.0</td>\n",
       "      <td>0.500040</td>\n",
       "      <td>0.500010</td>\n",
       "      <td>0.0</td>\n",
       "      <td>0.0</td>\n",
       "      <td>1.0</td>\n",
       "      <td>1.0</td>\n",
       "      <td>1.0</td>\n",
       "    </tr>\n",
       "    <tr>\n",
       "      <th>2</th>\n",
       "      <td>platinum</td>\n",
       "      <td>24952.0</td>\n",
       "      <td>42.954793</td>\n",
       "      <td>18.167234</td>\n",
       "      <td>12.0</td>\n",
       "      <td>27.0</td>\n",
       "      <td>43.0</td>\n",
       "      <td>59.0</td>\n",
       "      <td>74.0</td>\n",
       "      <td>24952.0</td>\n",
       "      <td>...</td>\n",
       "      <td>1.0</td>\n",
       "      <td>1.0</td>\n",
       "      <td>24952.0</td>\n",
       "      <td>0.500160</td>\n",
       "      <td>0.500010</td>\n",
       "      <td>0.0</td>\n",
       "      <td>0.0</td>\n",
       "      <td>1.0</td>\n",
       "      <td>1.0</td>\n",
       "      <td>1.0</td>\n",
       "    </tr>\n",
       "    <tr>\n",
       "      <th>3</th>\n",
       "      <td>silver</td>\n",
       "      <td>25058.0</td>\n",
       "      <td>42.915676</td>\n",
       "      <td>18.241377</td>\n",
       "      <td>12.0</td>\n",
       "      <td>27.0</td>\n",
       "      <td>43.0</td>\n",
       "      <td>59.0</td>\n",
       "      <td>74.0</td>\n",
       "      <td>25058.0</td>\n",
       "      <td>...</td>\n",
       "      <td>1.0</td>\n",
       "      <td>1.0</td>\n",
       "      <td>25058.0</td>\n",
       "      <td>0.502993</td>\n",
       "      <td>0.500001</td>\n",
       "      <td>0.0</td>\n",
       "      <td>0.0</td>\n",
       "      <td>1.0</td>\n",
       "      <td>1.0</td>\n",
       "      <td>1.0</td>\n",
       "    </tr>\n",
       "  </tbody>\n",
       "</table>\n",
       "<p>4 rows × 49 columns</p>\n",
       "</div>"
      ],
      "text/plain": [
       "       TIER      AGE                                                      \\\n",
       "               count       mean        std   min   25%   50%   75%   max   \n",
       "0      base  24784.0  42.796078  18.176227  12.0  27.0  43.0  59.0  74.0   \n",
       "1      gold  25206.0  43.005634  18.199851  12.0  27.0  43.0  59.0  74.0   \n",
       "2  platinum  24952.0  42.954793  18.167234  12.0  27.0  43.0  59.0  74.0   \n",
       "3    silver  25058.0  42.915676  18.241377  12.0  27.0  43.0  59.0  74.0   \n",
       "\n",
       "  IS_COBRAND  ... IS_HOTELREDEMPTION      IS_INACTIVE                      \\\n",
       "       count  ...                75%  max       count      mean       std   \n",
       "0    24784.0  ...                1.0  1.0     24784.0  0.507222  0.499958   \n",
       "1    25206.0  ...                1.0  1.0     25206.0  0.500040  0.500010   \n",
       "2    24952.0  ...                1.0  1.0     24952.0  0.500160  0.500010   \n",
       "3    25058.0  ...                1.0  1.0     25058.0  0.502993  0.500001   \n",
       "\n",
       "                            \n",
       "   min  25%  50%  75%  max  \n",
       "0  0.0  0.0  1.0  1.0  1.0  \n",
       "1  0.0  0.0  1.0  1.0  1.0  \n",
       "2  0.0  0.0  1.0  1.0  1.0  \n",
       "3  0.0  0.0  1.0  1.0  1.0  \n",
       "\n",
       "[4 rows x 49 columns]"
      ]
     },
     "execution_count": 15,
     "metadata": {},
     "output_type": "execute_result"
    }
   ],
   "source": [
    "air.groupby(air['TIER']).describe().reset_index()"
   ]
  },
  {
   "cell_type": "code",
   "execution_count": 16,
   "metadata": {},
   "outputs": [
    {
     "data": {
      "text/html": [
       "<div>\n",
       "<style scoped>\n",
       "    .dataframe tbody tr th:only-of-type {\n",
       "        vertical-align: middle;\n",
       "    }\n",
       "\n",
       "    .dataframe tbody tr th {\n",
       "        vertical-align: top;\n",
       "    }\n",
       "\n",
       "    .dataframe thead tr th {\n",
       "        text-align: left;\n",
       "    }\n",
       "</style>\n",
       "<table border=\"1\" class=\"dataframe\">\n",
       "  <thead>\n",
       "    <tr>\n",
       "      <th></th>\n",
       "      <th>YEARS_IN_PROGRAM</th>\n",
       "      <th colspan=\"8\" halign=\"left\">AGE</th>\n",
       "      <th>IS_COBRAND</th>\n",
       "      <th>...</th>\n",
       "      <th colspan=\"2\" halign=\"left\">IS_HOTELREDEMPTION</th>\n",
       "      <th colspan=\"8\" halign=\"left\">IS_INACTIVE</th>\n",
       "    </tr>\n",
       "    <tr>\n",
       "      <th></th>\n",
       "      <th></th>\n",
       "      <th>count</th>\n",
       "      <th>mean</th>\n",
       "      <th>std</th>\n",
       "      <th>min</th>\n",
       "      <th>25%</th>\n",
       "      <th>50%</th>\n",
       "      <th>75%</th>\n",
       "      <th>max</th>\n",
       "      <th>count</th>\n",
       "      <th>...</th>\n",
       "      <th>75%</th>\n",
       "      <th>max</th>\n",
       "      <th>count</th>\n",
       "      <th>mean</th>\n",
       "      <th>std</th>\n",
       "      <th>min</th>\n",
       "      <th>25%</th>\n",
       "      <th>50%</th>\n",
       "      <th>75%</th>\n",
       "      <th>max</th>\n",
       "    </tr>\n",
       "  </thead>\n",
       "  <tbody>\n",
       "    <tr>\n",
       "      <th>0</th>\n",
       "      <td>1</td>\n",
       "      <td>9128.0</td>\n",
       "      <td>43.401402</td>\n",
       "      <td>18.280670</td>\n",
       "      <td>12.0</td>\n",
       "      <td>27.0</td>\n",
       "      <td>44.0</td>\n",
       "      <td>59.0</td>\n",
       "      <td>74.0</td>\n",
       "      <td>9128.0</td>\n",
       "      <td>...</td>\n",
       "      <td>1.0</td>\n",
       "      <td>1.0</td>\n",
       "      <td>9128.0</td>\n",
       "      <td>0.514899</td>\n",
       "      <td>0.499805</td>\n",
       "      <td>0.0</td>\n",
       "      <td>0.0</td>\n",
       "      <td>1.0</td>\n",
       "      <td>1.0</td>\n",
       "      <td>1.0</td>\n",
       "    </tr>\n",
       "    <tr>\n",
       "      <th>1</th>\n",
       "      <td>2</td>\n",
       "      <td>9184.0</td>\n",
       "      <td>42.901895</td>\n",
       "      <td>18.108168</td>\n",
       "      <td>12.0</td>\n",
       "      <td>27.0</td>\n",
       "      <td>43.0</td>\n",
       "      <td>58.0</td>\n",
       "      <td>74.0</td>\n",
       "      <td>9184.0</td>\n",
       "      <td>...</td>\n",
       "      <td>1.0</td>\n",
       "      <td>1.0</td>\n",
       "      <td>9184.0</td>\n",
       "      <td>0.503484</td>\n",
       "      <td>0.500015</td>\n",
       "      <td>0.0</td>\n",
       "      <td>0.0</td>\n",
       "      <td>1.0</td>\n",
       "      <td>1.0</td>\n",
       "      <td>1.0</td>\n",
       "    </tr>\n",
       "    <tr>\n",
       "      <th>2</th>\n",
       "      <td>3</td>\n",
       "      <td>9077.0</td>\n",
       "      <td>43.004517</td>\n",
       "      <td>18.185836</td>\n",
       "      <td>12.0</td>\n",
       "      <td>27.0</td>\n",
       "      <td>43.0</td>\n",
       "      <td>59.0</td>\n",
       "      <td>74.0</td>\n",
       "      <td>9077.0</td>\n",
       "      <td>...</td>\n",
       "      <td>1.0</td>\n",
       "      <td>1.0</td>\n",
       "      <td>9077.0</td>\n",
       "      <td>0.502258</td>\n",
       "      <td>0.500022</td>\n",
       "      <td>0.0</td>\n",
       "      <td>0.0</td>\n",
       "      <td>1.0</td>\n",
       "      <td>1.0</td>\n",
       "      <td>1.0</td>\n",
       "    </tr>\n",
       "    <tr>\n",
       "      <th>3</th>\n",
       "      <td>4</td>\n",
       "      <td>9020.0</td>\n",
       "      <td>43.035588</td>\n",
       "      <td>18.108320</td>\n",
       "      <td>12.0</td>\n",
       "      <td>28.0</td>\n",
       "      <td>43.0</td>\n",
       "      <td>59.0</td>\n",
       "      <td>74.0</td>\n",
       "      <td>9020.0</td>\n",
       "      <td>...</td>\n",
       "      <td>1.0</td>\n",
       "      <td>1.0</td>\n",
       "      <td>9020.0</td>\n",
       "      <td>0.500222</td>\n",
       "      <td>0.500028</td>\n",
       "      <td>0.0</td>\n",
       "      <td>0.0</td>\n",
       "      <td>1.0</td>\n",
       "      <td>1.0</td>\n",
       "      <td>1.0</td>\n",
       "    </tr>\n",
       "    <tr>\n",
       "      <th>4</th>\n",
       "      <td>5</td>\n",
       "      <td>9086.0</td>\n",
       "      <td>43.115672</td>\n",
       "      <td>18.212394</td>\n",
       "      <td>12.0</td>\n",
       "      <td>27.0</td>\n",
       "      <td>43.0</td>\n",
       "      <td>59.0</td>\n",
       "      <td>74.0</td>\n",
       "      <td>9086.0</td>\n",
       "      <td>...</td>\n",
       "      <td>1.0</td>\n",
       "      <td>1.0</td>\n",
       "      <td>9086.0</td>\n",
       "      <td>0.501321</td>\n",
       "      <td>0.500026</td>\n",
       "      <td>0.0</td>\n",
       "      <td>0.0</td>\n",
       "      <td>1.0</td>\n",
       "      <td>1.0</td>\n",
       "      <td>1.0</td>\n",
       "    </tr>\n",
       "    <tr>\n",
       "      <th>5</th>\n",
       "      <td>6</td>\n",
       "      <td>9227.0</td>\n",
       "      <td>42.787255</td>\n",
       "      <td>18.178408</td>\n",
       "      <td>12.0</td>\n",
       "      <td>27.0</td>\n",
       "      <td>43.0</td>\n",
       "      <td>58.0</td>\n",
       "      <td>74.0</td>\n",
       "      <td>9227.0</td>\n",
       "      <td>...</td>\n",
       "      <td>1.0</td>\n",
       "      <td>1.0</td>\n",
       "      <td>9227.0</td>\n",
       "      <td>0.500813</td>\n",
       "      <td>0.500026</td>\n",
       "      <td>0.0</td>\n",
       "      <td>0.0</td>\n",
       "      <td>1.0</td>\n",
       "      <td>1.0</td>\n",
       "      <td>1.0</td>\n",
       "    </tr>\n",
       "    <tr>\n",
       "      <th>6</th>\n",
       "      <td>7</td>\n",
       "      <td>9135.0</td>\n",
       "      <td>42.901478</td>\n",
       "      <td>18.265592</td>\n",
       "      <td>12.0</td>\n",
       "      <td>27.0</td>\n",
       "      <td>43.0</td>\n",
       "      <td>59.0</td>\n",
       "      <td>74.0</td>\n",
       "      <td>9135.0</td>\n",
       "      <td>...</td>\n",
       "      <td>1.0</td>\n",
       "      <td>1.0</td>\n",
       "      <td>9135.0</td>\n",
       "      <td>0.502791</td>\n",
       "      <td>0.500020</td>\n",
       "      <td>0.0</td>\n",
       "      <td>0.0</td>\n",
       "      <td>1.0</td>\n",
       "      <td>1.0</td>\n",
       "      <td>1.0</td>\n",
       "    </tr>\n",
       "    <tr>\n",
       "      <th>7</th>\n",
       "      <td>8</td>\n",
       "      <td>8926.0</td>\n",
       "      <td>42.829711</td>\n",
       "      <td>18.231561</td>\n",
       "      <td>12.0</td>\n",
       "      <td>27.0</td>\n",
       "      <td>43.0</td>\n",
       "      <td>59.0</td>\n",
       "      <td>74.0</td>\n",
       "      <td>8926.0</td>\n",
       "      <td>...</td>\n",
       "      <td>1.0</td>\n",
       "      <td>1.0</td>\n",
       "      <td>8926.0</td>\n",
       "      <td>0.500560</td>\n",
       "      <td>0.500028</td>\n",
       "      <td>0.0</td>\n",
       "      <td>0.0</td>\n",
       "      <td>1.0</td>\n",
       "      <td>1.0</td>\n",
       "      <td>1.0</td>\n",
       "    </tr>\n",
       "    <tr>\n",
       "      <th>8</th>\n",
       "      <td>9</td>\n",
       "      <td>8936.0</td>\n",
       "      <td>42.943151</td>\n",
       "      <td>18.144817</td>\n",
       "      <td>12.0</td>\n",
       "      <td>27.0</td>\n",
       "      <td>43.0</td>\n",
       "      <td>59.0</td>\n",
       "      <td>74.0</td>\n",
       "      <td>8936.0</td>\n",
       "      <td>...</td>\n",
       "      <td>1.0</td>\n",
       "      <td>1.0</td>\n",
       "      <td>8936.0</td>\n",
       "      <td>0.505036</td>\n",
       "      <td>0.500003</td>\n",
       "      <td>0.0</td>\n",
       "      <td>0.0</td>\n",
       "      <td>1.0</td>\n",
       "      <td>1.0</td>\n",
       "      <td>1.0</td>\n",
       "    </tr>\n",
       "    <tr>\n",
       "      <th>9</th>\n",
       "      <td>10</td>\n",
       "      <td>9195.0</td>\n",
       "      <td>42.548233</td>\n",
       "      <td>18.278301</td>\n",
       "      <td>12.0</td>\n",
       "      <td>27.0</td>\n",
       "      <td>42.0</td>\n",
       "      <td>58.0</td>\n",
       "      <td>74.0</td>\n",
       "      <td>9195.0</td>\n",
       "      <td>...</td>\n",
       "      <td>1.0</td>\n",
       "      <td>1.0</td>\n",
       "      <td>9195.0</td>\n",
       "      <td>0.500707</td>\n",
       "      <td>0.500027</td>\n",
       "      <td>0.0</td>\n",
       "      <td>0.0</td>\n",
       "      <td>1.0</td>\n",
       "      <td>1.0</td>\n",
       "      <td>1.0</td>\n",
       "    </tr>\n",
       "    <tr>\n",
       "      <th>10</th>\n",
       "      <td>11</td>\n",
       "      <td>9086.0</td>\n",
       "      <td>42.638565</td>\n",
       "      <td>18.156602</td>\n",
       "      <td>12.0</td>\n",
       "      <td>27.0</td>\n",
       "      <td>42.0</td>\n",
       "      <td>58.0</td>\n",
       "      <td>74.0</td>\n",
       "      <td>9086.0</td>\n",
       "      <td>...</td>\n",
       "      <td>1.0</td>\n",
       "      <td>1.0</td>\n",
       "      <td>9086.0</td>\n",
       "      <td>0.496368</td>\n",
       "      <td>0.500014</td>\n",
       "      <td>0.0</td>\n",
       "      <td>0.0</td>\n",
       "      <td>0.0</td>\n",
       "      <td>1.0</td>\n",
       "      <td>1.0</td>\n",
       "    </tr>\n",
       "  </tbody>\n",
       "</table>\n",
       "<p>11 rows × 41 columns</p>\n",
       "</div>"
      ],
      "text/plain": [
       "   YEARS_IN_PROGRAM     AGE                                                \\\n",
       "                      count       mean        std   min   25%   50%   75%   \n",
       "0                 1  9128.0  43.401402  18.280670  12.0  27.0  44.0  59.0   \n",
       "1                 2  9184.0  42.901895  18.108168  12.0  27.0  43.0  58.0   \n",
       "2                 3  9077.0  43.004517  18.185836  12.0  27.0  43.0  59.0   \n",
       "3                 4  9020.0  43.035588  18.108320  12.0  28.0  43.0  59.0   \n",
       "4                 5  9086.0  43.115672  18.212394  12.0  27.0  43.0  59.0   \n",
       "5                 6  9227.0  42.787255  18.178408  12.0  27.0  43.0  58.0   \n",
       "6                 7  9135.0  42.901478  18.265592  12.0  27.0  43.0  59.0   \n",
       "7                 8  8926.0  42.829711  18.231561  12.0  27.0  43.0  59.0   \n",
       "8                 9  8936.0  42.943151  18.144817  12.0  27.0  43.0  59.0   \n",
       "9                10  9195.0  42.548233  18.278301  12.0  27.0  42.0  58.0   \n",
       "10               11  9086.0  42.638565  18.156602  12.0  27.0  42.0  58.0   \n",
       "\n",
       "         IS_COBRAND  ... IS_HOTELREDEMPTION      IS_INACTIVE            \\\n",
       "     max      count  ...                75%  max       count      mean   \n",
       "0   74.0     9128.0  ...                1.0  1.0      9128.0  0.514899   \n",
       "1   74.0     9184.0  ...                1.0  1.0      9184.0  0.503484   \n",
       "2   74.0     9077.0  ...                1.0  1.0      9077.0  0.502258   \n",
       "3   74.0     9020.0  ...                1.0  1.0      9020.0  0.500222   \n",
       "4   74.0     9086.0  ...                1.0  1.0      9086.0  0.501321   \n",
       "5   74.0     9227.0  ...                1.0  1.0      9227.0  0.500813   \n",
       "6   74.0     9135.0  ...                1.0  1.0      9135.0  0.502791   \n",
       "7   74.0     8926.0  ...                1.0  1.0      8926.0  0.500560   \n",
       "8   74.0     8936.0  ...                1.0  1.0      8936.0  0.505036   \n",
       "9   74.0     9195.0  ...                1.0  1.0      9195.0  0.500707   \n",
       "10  74.0     9086.0  ...                1.0  1.0      9086.0  0.496368   \n",
       "\n",
       "                                       \n",
       "         std  min  25%  50%  75%  max  \n",
       "0   0.499805  0.0  0.0  1.0  1.0  1.0  \n",
       "1   0.500015  0.0  0.0  1.0  1.0  1.0  \n",
       "2   0.500022  0.0  0.0  1.0  1.0  1.0  \n",
       "3   0.500028  0.0  0.0  1.0  1.0  1.0  \n",
       "4   0.500026  0.0  0.0  1.0  1.0  1.0  \n",
       "5   0.500026  0.0  0.0  1.0  1.0  1.0  \n",
       "6   0.500020  0.0  0.0  1.0  1.0  1.0  \n",
       "7   0.500028  0.0  0.0  1.0  1.0  1.0  \n",
       "8   0.500003  0.0  0.0  1.0  1.0  1.0  \n",
       "9   0.500027  0.0  0.0  1.0  1.0  1.0  \n",
       "10  0.500014  0.0  0.0  0.0  1.0  1.0  \n",
       "\n",
       "[11 rows x 41 columns]"
      ]
     },
     "execution_count": 16,
     "metadata": {},
     "output_type": "execute_result"
    }
   ],
   "source": [
    "air.groupby(air['YEARS_IN_PROGRAM']).describe().reset_index()"
   ]
  },
  {
   "cell_type": "code",
   "execution_count": 17,
   "metadata": {},
   "outputs": [
    {
     "data": {
      "text/html": [
       "<div>\n",
       "<style scoped>\n",
       "    .dataframe tbody tr th:only-of-type {\n",
       "        vertical-align: middle;\n",
       "    }\n",
       "\n",
       "    .dataframe tbody tr th {\n",
       "        vertical-align: top;\n",
       "    }\n",
       "\n",
       "    .dataframe thead tr th {\n",
       "        text-align: left;\n",
       "    }\n",
       "</style>\n",
       "<table border=\"1\" class=\"dataframe\">\n",
       "  <thead>\n",
       "    <tr>\n",
       "      <th></th>\n",
       "      <th>IS_AIRACCRUAL</th>\n",
       "      <th colspan=\"8\" halign=\"left\">AGE</th>\n",
       "      <th>IS_COBRAND</th>\n",
       "      <th>...</th>\n",
       "      <th colspan=\"2\" halign=\"left\">IS_HOTELREDEMPTION</th>\n",
       "      <th colspan=\"8\" halign=\"left\">IS_INACTIVE</th>\n",
       "    </tr>\n",
       "    <tr>\n",
       "      <th></th>\n",
       "      <th></th>\n",
       "      <th>count</th>\n",
       "      <th>mean</th>\n",
       "      <th>std</th>\n",
       "      <th>min</th>\n",
       "      <th>25%</th>\n",
       "      <th>50%</th>\n",
       "      <th>75%</th>\n",
       "      <th>max</th>\n",
       "      <th>count</th>\n",
       "      <th>...</th>\n",
       "      <th>75%</th>\n",
       "      <th>max</th>\n",
       "      <th>count</th>\n",
       "      <th>mean</th>\n",
       "      <th>std</th>\n",
       "      <th>min</th>\n",
       "      <th>25%</th>\n",
       "      <th>50%</th>\n",
       "      <th>75%</th>\n",
       "      <th>max</th>\n",
       "    </tr>\n",
       "  </thead>\n",
       "  <tbody>\n",
       "    <tr>\n",
       "      <th>0</th>\n",
       "      <td>0</td>\n",
       "      <td>50123.0</td>\n",
       "      <td>42.978313</td>\n",
       "      <td>18.195947</td>\n",
       "      <td>12.0</td>\n",
       "      <td>27.0</td>\n",
       "      <td>43.0</td>\n",
       "      <td>59.0</td>\n",
       "      <td>74.0</td>\n",
       "      <td>50123.0</td>\n",
       "      <td>...</td>\n",
       "      <td>1.0</td>\n",
       "      <td>1.0</td>\n",
       "      <td>50123.0</td>\n",
       "      <td>0.500948</td>\n",
       "      <td>0.500004</td>\n",
       "      <td>0.0</td>\n",
       "      <td>0.0</td>\n",
       "      <td>1.0</td>\n",
       "      <td>1.0</td>\n",
       "      <td>1.0</td>\n",
       "    </tr>\n",
       "    <tr>\n",
       "      <th>1</th>\n",
       "      <td>1</td>\n",
       "      <td>49877.0</td>\n",
       "      <td>42.858331</td>\n",
       "      <td>18.196391</td>\n",
       "      <td>12.0</td>\n",
       "      <td>27.0</td>\n",
       "      <td>43.0</td>\n",
       "      <td>59.0</td>\n",
       "      <td>74.0</td>\n",
       "      <td>49877.0</td>\n",
       "      <td>...</td>\n",
       "      <td>1.0</td>\n",
       "      <td>1.0</td>\n",
       "      <td>49877.0</td>\n",
       "      <td>0.504240</td>\n",
       "      <td>0.499987</td>\n",
       "      <td>0.0</td>\n",
       "      <td>0.0</td>\n",
       "      <td>1.0</td>\n",
       "      <td>1.0</td>\n",
       "      <td>1.0</td>\n",
       "    </tr>\n",
       "  </tbody>\n",
       "</table>\n",
       "<p>2 rows × 41 columns</p>\n",
       "</div>"
      ],
      "text/plain": [
       "  IS_AIRACCRUAL      AGE                                                      \\\n",
       "                   count       mean        std   min   25%   50%   75%   max   \n",
       "0             0  50123.0  42.978313  18.195947  12.0  27.0  43.0  59.0  74.0   \n",
       "1             1  49877.0  42.858331  18.196391  12.0  27.0  43.0  59.0  74.0   \n",
       "\n",
       "  IS_COBRAND  ... IS_HOTELREDEMPTION      IS_INACTIVE                      \\\n",
       "       count  ...                75%  max       count      mean       std   \n",
       "0    50123.0  ...                1.0  1.0     50123.0  0.500948  0.500004   \n",
       "1    49877.0  ...                1.0  1.0     49877.0  0.504240  0.499987   \n",
       "\n",
       "                            \n",
       "   min  25%  50%  75%  max  \n",
       "0  0.0  0.0  1.0  1.0  1.0  \n",
       "1  0.0  0.0  1.0  1.0  1.0  \n",
       "\n",
       "[2 rows x 41 columns]"
      ]
     },
     "execution_count": 17,
     "metadata": {},
     "output_type": "execute_result"
    }
   ],
   "source": [
    "air.groupby(air['IS_AIRACCRUAL']).describe().reset_index()"
   ]
  },
  {
   "cell_type": "code",
   "execution_count": 18,
   "metadata": {},
   "outputs": [
    {
     "data": {
      "text/html": [
       "<div>\n",
       "<style scoped>\n",
       "    .dataframe tbody tr th:only-of-type {\n",
       "        vertical-align: middle;\n",
       "    }\n",
       "\n",
       "    .dataframe tbody tr th {\n",
       "        vertical-align: top;\n",
       "    }\n",
       "\n",
       "    .dataframe thead tr th {\n",
       "        text-align: left;\n",
       "    }\n",
       "</style>\n",
       "<table border=\"1\" class=\"dataframe\">\n",
       "  <thead>\n",
       "    <tr>\n",
       "      <th></th>\n",
       "      <th>IS_HOTELREDEMPTION</th>\n",
       "      <th colspan=\"8\" halign=\"left\">AGE</th>\n",
       "      <th>IS_COBRAND</th>\n",
       "      <th>...</th>\n",
       "      <th colspan=\"2\" halign=\"left\">IS_AIRACCRUAL</th>\n",
       "      <th colspan=\"8\" halign=\"left\">IS_INACTIVE</th>\n",
       "    </tr>\n",
       "    <tr>\n",
       "      <th></th>\n",
       "      <th></th>\n",
       "      <th>count</th>\n",
       "      <th>mean</th>\n",
       "      <th>std</th>\n",
       "      <th>min</th>\n",
       "      <th>25%</th>\n",
       "      <th>50%</th>\n",
       "      <th>75%</th>\n",
       "      <th>max</th>\n",
       "      <th>count</th>\n",
       "      <th>...</th>\n",
       "      <th>75%</th>\n",
       "      <th>max</th>\n",
       "      <th>count</th>\n",
       "      <th>mean</th>\n",
       "      <th>std</th>\n",
       "      <th>min</th>\n",
       "      <th>25%</th>\n",
       "      <th>50%</th>\n",
       "      <th>75%</th>\n",
       "      <th>max</th>\n",
       "    </tr>\n",
       "  </thead>\n",
       "  <tbody>\n",
       "    <tr>\n",
       "      <th>0</th>\n",
       "      <td>0</td>\n",
       "      <td>49834.0</td>\n",
       "      <td>42.792511</td>\n",
       "      <td>18.209291</td>\n",
       "      <td>12.0</td>\n",
       "      <td>27.0</td>\n",
       "      <td>43.0</td>\n",
       "      <td>58.0</td>\n",
       "      <td>74.0</td>\n",
       "      <td>49834.0</td>\n",
       "      <td>...</td>\n",
       "      <td>1.0</td>\n",
       "      <td>1.0</td>\n",
       "      <td>49834.0</td>\n",
       "      <td>0.498294</td>\n",
       "      <td>0.500002</td>\n",
       "      <td>0.0</td>\n",
       "      <td>0.0</td>\n",
       "      <td>0.0</td>\n",
       "      <td>1.0</td>\n",
       "      <td>1.0</td>\n",
       "    </tr>\n",
       "    <tr>\n",
       "      <th>1</th>\n",
       "      <td>1</td>\n",
       "      <td>50166.0</td>\n",
       "      <td>43.043595</td>\n",
       "      <td>18.182457</td>\n",
       "      <td>12.0</td>\n",
       "      <td>27.0</td>\n",
       "      <td>43.0</td>\n",
       "      <td>59.0</td>\n",
       "      <td>74.0</td>\n",
       "      <td>50166.0</td>\n",
       "      <td>...</td>\n",
       "      <td>1.0</td>\n",
       "      <td>1.0</td>\n",
       "      <td>50166.0</td>\n",
       "      <td>0.506857</td>\n",
       "      <td>0.499958</td>\n",
       "      <td>0.0</td>\n",
       "      <td>0.0</td>\n",
       "      <td>1.0</td>\n",
       "      <td>1.0</td>\n",
       "      <td>1.0</td>\n",
       "    </tr>\n",
       "  </tbody>\n",
       "</table>\n",
       "<p>2 rows × 41 columns</p>\n",
       "</div>"
      ],
      "text/plain": [
       "  IS_HOTELREDEMPTION      AGE                                                \\\n",
       "                        count       mean        std   min   25%   50%   75%   \n",
       "0                  0  49834.0  42.792511  18.209291  12.0  27.0  43.0  58.0   \n",
       "1                  1  50166.0  43.043595  18.182457  12.0  27.0  43.0  59.0   \n",
       "\n",
       "        IS_COBRAND  ... IS_AIRACCRUAL      IS_INACTIVE                      \\\n",
       "    max      count  ...           75%  max       count      mean       std   \n",
       "0  74.0    49834.0  ...           1.0  1.0     49834.0  0.498294  0.500002   \n",
       "1  74.0    50166.0  ...           1.0  1.0     50166.0  0.506857  0.499958   \n",
       "\n",
       "                            \n",
       "   min  25%  50%  75%  max  \n",
       "0  0.0  0.0  0.0  1.0  1.0  \n",
       "1  0.0  0.0  1.0  1.0  1.0  \n",
       "\n",
       "[2 rows x 41 columns]"
      ]
     },
     "execution_count": 18,
     "metadata": {},
     "output_type": "execute_result"
    }
   ],
   "source": [
    "air.groupby(air['IS_HOTELREDEMPTION']).describe().reset_index()"
   ]
  },
  {
   "cell_type": "code",
   "execution_count": 19,
   "metadata": {},
   "outputs": [
    {
     "data": {
      "text/html": [
       "<div>\n",
       "<style scoped>\n",
       "    .dataframe tbody tr th:only-of-type {\n",
       "        vertical-align: middle;\n",
       "    }\n",
       "\n",
       "    .dataframe tbody tr th {\n",
       "        vertical-align: top;\n",
       "    }\n",
       "\n",
       "    .dataframe thead tr th {\n",
       "        text-align: left;\n",
       "    }\n",
       "</style>\n",
       "<table border=\"1\" class=\"dataframe\">\n",
       "  <thead>\n",
       "    <tr>\n",
       "      <th></th>\n",
       "      <th>IS_INACTIVE</th>\n",
       "      <th colspan=\"8\" halign=\"left\">AGE</th>\n",
       "      <th>IS_COBRAND</th>\n",
       "      <th>...</th>\n",
       "      <th colspan=\"2\" halign=\"left\">IS_AIRACCRUAL</th>\n",
       "      <th colspan=\"8\" halign=\"left\">IS_HOTELREDEMPTION</th>\n",
       "    </tr>\n",
       "    <tr>\n",
       "      <th></th>\n",
       "      <th></th>\n",
       "      <th>count</th>\n",
       "      <th>mean</th>\n",
       "      <th>std</th>\n",
       "      <th>min</th>\n",
       "      <th>25%</th>\n",
       "      <th>50%</th>\n",
       "      <th>75%</th>\n",
       "      <th>max</th>\n",
       "      <th>count</th>\n",
       "      <th>...</th>\n",
       "      <th>75%</th>\n",
       "      <th>max</th>\n",
       "      <th>count</th>\n",
       "      <th>mean</th>\n",
       "      <th>std</th>\n",
       "      <th>min</th>\n",
       "      <th>25%</th>\n",
       "      <th>50%</th>\n",
       "      <th>75%</th>\n",
       "      <th>max</th>\n",
       "    </tr>\n",
       "  </thead>\n",
       "  <tbody>\n",
       "    <tr>\n",
       "      <th>0</th>\n",
       "      <td>0</td>\n",
       "      <td>49741.0</td>\n",
       "      <td>42.850968</td>\n",
       "      <td>18.179234</td>\n",
       "      <td>12.0</td>\n",
       "      <td>27.0</td>\n",
       "      <td>43.0</td>\n",
       "      <td>59.0</td>\n",
       "      <td>74.0</td>\n",
       "      <td>49741.0</td>\n",
       "      <td>...</td>\n",
       "      <td>1.0</td>\n",
       "      <td>1.0</td>\n",
       "      <td>49741.0</td>\n",
       "      <td>0.497356</td>\n",
       "      <td>0.499998</td>\n",
       "      <td>0.0</td>\n",
       "      <td>0.0</td>\n",
       "      <td>0.0</td>\n",
       "      <td>1.0</td>\n",
       "      <td>1.0</td>\n",
       "    </tr>\n",
       "    <tr>\n",
       "      <th>1</th>\n",
       "      <td>1</td>\n",
       "      <td>50259.0</td>\n",
       "      <td>42.985276</td>\n",
       "      <td>18.212863</td>\n",
       "      <td>12.0</td>\n",
       "      <td>27.0</td>\n",
       "      <td>43.0</td>\n",
       "      <td>59.0</td>\n",
       "      <td>74.0</td>\n",
       "      <td>50259.0</td>\n",
       "      <td>...</td>\n",
       "      <td>1.0</td>\n",
       "      <td>1.0</td>\n",
       "      <td>50259.0</td>\n",
       "      <td>0.505919</td>\n",
       "      <td>0.499970</td>\n",
       "      <td>0.0</td>\n",
       "      <td>0.0</td>\n",
       "      <td>1.0</td>\n",
       "      <td>1.0</td>\n",
       "      <td>1.0</td>\n",
       "    </tr>\n",
       "  </tbody>\n",
       "</table>\n",
       "<p>2 rows × 41 columns</p>\n",
       "</div>"
      ],
      "text/plain": [
       "  IS_INACTIVE      AGE                                                      \\\n",
       "                 count       mean        std   min   25%   50%   75%   max   \n",
       "0           0  49741.0  42.850968  18.179234  12.0  27.0  43.0  59.0  74.0   \n",
       "1           1  50259.0  42.985276  18.212863  12.0  27.0  43.0  59.0  74.0   \n",
       "\n",
       "  IS_COBRAND  ... IS_AIRACCRUAL      IS_HOTELREDEMPTION                      \\\n",
       "       count  ...           75%  max              count      mean       std   \n",
       "0    49741.0  ...           1.0  1.0            49741.0  0.497356  0.499998   \n",
       "1    50259.0  ...           1.0  1.0            50259.0  0.505919  0.499970   \n",
       "\n",
       "                            \n",
       "   min  25%  50%  75%  max  \n",
       "0  0.0  0.0  0.0  1.0  1.0  \n",
       "1  0.0  0.0  1.0  1.0  1.0  \n",
       "\n",
       "[2 rows x 41 columns]"
      ]
     },
     "execution_count": 19,
     "metadata": {},
     "output_type": "execute_result"
    }
   ],
   "source": [
    "air.groupby(air['IS_INACTIVE']).describe().reset_index()"
   ]
  },
  {
   "cell_type": "code",
   "execution_count": 20,
   "metadata": {},
   "outputs": [
    {
     "data": {
      "text/html": [
       "<div>\n",
       "<style scoped>\n",
       "    .dataframe tbody tr th:only-of-type {\n",
       "        vertical-align: middle;\n",
       "    }\n",
       "\n",
       "    .dataframe tbody tr th {\n",
       "        vertical-align: top;\n",
       "    }\n",
       "\n",
       "    .dataframe thead th {\n",
       "        text-align: right;\n",
       "    }\n",
       "</style>\n",
       "<table border=\"1\" class=\"dataframe\">\n",
       "  <thead>\n",
       "    <tr style=\"text-align: right;\">\n",
       "      <th></th>\n",
       "      <th>AGE</th>\n",
       "      <th>IS_COBRAND</th>\n",
       "      <th>YEARS_IN_PROGRAM</th>\n",
       "      <th>IS_AIRACCRUAL</th>\n",
       "      <th>IS_HOTELREDEMPTION</th>\n",
       "      <th>IS_INACTIVE</th>\n",
       "    </tr>\n",
       "  </thead>\n",
       "  <tbody>\n",
       "    <tr>\n",
       "      <th>count</th>\n",
       "      <td>100000.000000</td>\n",
       "      <td>100000.000000</td>\n",
       "      <td>100000.000000</td>\n",
       "      <td>100000.000000</td>\n",
       "      <td>100000.00000</td>\n",
       "      <td>100000.000000</td>\n",
       "    </tr>\n",
       "    <tr>\n",
       "      <th>mean</th>\n",
       "      <td>42.918470</td>\n",
       "      <td>0.499570</td>\n",
       "      <td>5.992720</td>\n",
       "      <td>0.498770</td>\n",
       "      <td>0.50166</td>\n",
       "      <td>0.502590</td>\n",
       "    </tr>\n",
       "    <tr>\n",
       "      <th>std</th>\n",
       "      <td>18.196176</td>\n",
       "      <td>0.500002</td>\n",
       "      <td>3.164713</td>\n",
       "      <td>0.500001</td>\n",
       "      <td>0.50000</td>\n",
       "      <td>0.499996</td>\n",
       "    </tr>\n",
       "    <tr>\n",
       "      <th>min</th>\n",
       "      <td>12.000000</td>\n",
       "      <td>0.000000</td>\n",
       "      <td>1.000000</td>\n",
       "      <td>0.000000</td>\n",
       "      <td>0.00000</td>\n",
       "      <td>0.000000</td>\n",
       "    </tr>\n",
       "    <tr>\n",
       "      <th>25%</th>\n",
       "      <td>27.000000</td>\n",
       "      <td>0.000000</td>\n",
       "      <td>3.000000</td>\n",
       "      <td>0.000000</td>\n",
       "      <td>0.00000</td>\n",
       "      <td>0.000000</td>\n",
       "    </tr>\n",
       "    <tr>\n",
       "      <th>50%</th>\n",
       "      <td>43.000000</td>\n",
       "      <td>0.000000</td>\n",
       "      <td>6.000000</td>\n",
       "      <td>0.000000</td>\n",
       "      <td>1.00000</td>\n",
       "      <td>1.000000</td>\n",
       "    </tr>\n",
       "    <tr>\n",
       "      <th>75%</th>\n",
       "      <td>59.000000</td>\n",
       "      <td>1.000000</td>\n",
       "      <td>9.000000</td>\n",
       "      <td>1.000000</td>\n",
       "      <td>1.00000</td>\n",
       "      <td>1.000000</td>\n",
       "    </tr>\n",
       "    <tr>\n",
       "      <th>max</th>\n",
       "      <td>74.000000</td>\n",
       "      <td>1.000000</td>\n",
       "      <td>11.000000</td>\n",
       "      <td>1.000000</td>\n",
       "      <td>1.00000</td>\n",
       "      <td>1.000000</td>\n",
       "    </tr>\n",
       "  </tbody>\n",
       "</table>\n",
       "</div>"
      ],
      "text/plain": [
       "                 AGE     IS_COBRAND  YEARS_IN_PROGRAM  IS_AIRACCRUAL  \\\n",
       "count  100000.000000  100000.000000     100000.000000  100000.000000   \n",
       "mean       42.918470       0.499570          5.992720       0.498770   \n",
       "std        18.196176       0.500002          3.164713       0.500001   \n",
       "min        12.000000       0.000000          1.000000       0.000000   \n",
       "25%        27.000000       0.000000          3.000000       0.000000   \n",
       "50%        43.000000       0.000000          6.000000       0.000000   \n",
       "75%        59.000000       1.000000          9.000000       1.000000   \n",
       "max        74.000000       1.000000         11.000000       1.000000   \n",
       "\n",
       "       IS_HOTELREDEMPTION    IS_INACTIVE  \n",
       "count        100000.00000  100000.000000  \n",
       "mean              0.50166       0.502590  \n",
       "std               0.50000       0.499996  \n",
       "min               0.00000       0.000000  \n",
       "25%               0.00000       0.000000  \n",
       "50%               1.00000       1.000000  \n",
       "75%               1.00000       1.000000  \n",
       "max               1.00000       1.000000  "
      ]
     },
     "execution_count": 20,
     "metadata": {},
     "output_type": "execute_result"
    }
   ],
   "source": [
    "air.describe()"
   ]
  },
  {
   "cell_type": "markdown",
   "metadata": {},
   "source": [
    "# DESCRIPTIVE STATISTICS"
   ]
  },
  {
   "cell_type": "markdown",
   "metadata": {},
   "source": [
    "GETTING UNIQUE VALUES IN EACH ATTRIBUTE"
   ]
  },
  {
   "cell_type": "code",
   "execution_count": 21,
   "metadata": {},
   "outputs": [
    {
     "data": {
      "text/plain": [
       "array([60, 74, 29, 25, 61, 47, 42, 45, 64, 55, 56, 23, 51, 67, 69, 72, 31,\n",
       "       37, 50, 17, 48, 35, 24, 54, 44, 65, 22, 18, 36, 43, 40, 28, 34, 33,\n",
       "       26, 41, 21, 52, 30, 68, 71, 66, 39, 59, 62, 19, 73, 46, 12, 58, 13,\n",
       "       20, 49, 14, 27, 38, 70, 53, 15, 63, 16, 57, 32])"
      ]
     },
     "execution_count": 21,
     "metadata": {},
     "output_type": "execute_result"
    }
   ],
   "source": [
    "air.AGE.unique()"
   ]
  },
  {
   "cell_type": "code",
   "execution_count": 22,
   "metadata": {},
   "outputs": [
    {
     "data": {
      "text/plain": [
       "array(['male', 'female', 'unknown'], dtype=object)"
      ]
     },
     "execution_count": 22,
     "metadata": {},
     "output_type": "execute_result"
    }
   ],
   "source": [
    "air.GENDER.unique()# categorical"
   ]
  },
  {
   "cell_type": "code",
   "execution_count": 23,
   "metadata": {},
   "outputs": [
    {
     "data": {
      "text/plain": [
       "array([0, 1])"
      ]
     },
     "execution_count": 23,
     "metadata": {},
     "output_type": "execute_result"
    }
   ],
   "source": [
    "air.IS_COBRAND.unique()# categorical"
   ]
  },
  {
   "cell_type": "code",
   "execution_count": 24,
   "metadata": {},
   "outputs": [
    {
     "data": {
      "text/plain": [
       "array(['gold', 'base', 'silver', 'platinum'], dtype=object)"
      ]
     },
     "execution_count": 24,
     "metadata": {},
     "output_type": "execute_result"
    }
   ],
   "source": [
    "air.TIER.unique()# cateorical"
   ]
  },
  {
   "cell_type": "code",
   "execution_count": 25,
   "metadata": {},
   "outputs": [
    {
     "data": {
      "text/plain": [
       "array([ 3,  2, 11,  8,  1, 10,  9,  4,  6,  5,  7])"
      ]
     },
     "execution_count": 25,
     "metadata": {},
     "output_type": "execute_result"
    }
   ],
   "source": [
    "air.YEARS_IN_PROGRAM.unique()"
   ]
  },
  {
   "cell_type": "code",
   "execution_count": 26,
   "metadata": {},
   "outputs": [
    {
     "data": {
      "text/plain": [
       "array([1, 0])"
      ]
     },
     "execution_count": 26,
     "metadata": {},
     "output_type": "execute_result"
    }
   ],
   "source": [
    "air.IS_AIRACCRUAL.unique()# categorical"
   ]
  },
  {
   "cell_type": "code",
   "execution_count": 27,
   "metadata": {},
   "outputs": [
    {
     "data": {
      "text/plain": [
       "array([0, 1])"
      ]
     },
     "execution_count": 27,
     "metadata": {},
     "output_type": "execute_result"
    }
   ],
   "source": [
    "air.IS_HOTELREDEMPTION.unique()# categorical"
   ]
  },
  {
   "cell_type": "code",
   "execution_count": 28,
   "metadata": {},
   "outputs": [
    {
     "data": {
      "text/plain": [
       "AGE                   0\n",
       "GENDER                0\n",
       "IS_COBRAND            0\n",
       "TIER                  0\n",
       "YEARS_IN_PROGRAM      0\n",
       "IS_AIRACCRUAL         0\n",
       "IS_HOTELREDEMPTION    0\n",
       "IS_INACTIVE           0\n",
       "dtype: int64"
      ]
     },
     "execution_count": 28,
     "metadata": {},
     "output_type": "execute_result"
    }
   ],
   "source": [
    "air.isnull().sum()"
   ]
  },
  {
   "cell_type": "markdown",
   "metadata": {},
   "source": [
    "###### There are no null values in the given  dataset .  So we do not need to Impute them. "
   ]
  },
  {
   "cell_type": "markdown",
   "metadata": {},
   "source": [
    "##### 1st BUSINESS MOMENT DECISION( CENTRAL TENDENCIES)"
   ]
  },
  {
   "cell_type": "raw",
   "metadata": {},
   "source": [
    "MEAN OF EACH FEATURE"
   ]
  },
  {
   "cell_type": "code",
   "execution_count": 29,
   "metadata": {
    "scrolled": true
   },
   "outputs": [
    {
     "name": "stderr",
     "output_type": "stream",
     "text": [
      "/var/folders/bm/l2zpyjxn2gqg_1d20xgx5z0w0000gn/T/ipykernel_32255/2699225666.py:1: FutureWarning: Dropping of nuisance columns in DataFrame reductions (with 'numeric_only=None') is deprecated; in a future version this will raise TypeError.  Select only valid columns before calling the reduction.\n",
      "  air.mean()\n"
     ]
    },
    {
     "data": {
      "text/plain": [
       "AGE                   42.91847\n",
       "IS_COBRAND             0.49957\n",
       "YEARS_IN_PROGRAM       5.99272\n",
       "IS_AIRACCRUAL          0.49877\n",
       "IS_HOTELREDEMPTION     0.50166\n",
       "IS_INACTIVE            0.50259\n",
       "dtype: float64"
      ]
     },
     "execution_count": 29,
     "metadata": {},
     "output_type": "execute_result"
    }
   ],
   "source": [
    "air.mean()"
   ]
  },
  {
   "cell_type": "raw",
   "metadata": {},
   "source": [
    "MEDIAN OF EACH FEATURE"
   ]
  },
  {
   "cell_type": "code",
   "execution_count": 30,
   "metadata": {},
   "outputs": [
    {
     "name": "stderr",
     "output_type": "stream",
     "text": [
      "/var/folders/bm/l2zpyjxn2gqg_1d20xgx5z0w0000gn/T/ipykernel_32255/4062833675.py:1: FutureWarning: Dropping of nuisance columns in DataFrame reductions (with 'numeric_only=None') is deprecated; in a future version this will raise TypeError.  Select only valid columns before calling the reduction.\n",
      "  air.median()\n"
     ]
    },
    {
     "data": {
      "text/plain": [
       "AGE                   43.0\n",
       "IS_COBRAND             0.0\n",
       "YEARS_IN_PROGRAM       6.0\n",
       "IS_AIRACCRUAL          0.0\n",
       "IS_HOTELREDEMPTION     1.0\n",
       "IS_INACTIVE            1.0\n",
       "dtype: float64"
      ]
     },
     "execution_count": 30,
     "metadata": {},
     "output_type": "execute_result"
    }
   ],
   "source": [
    "air.median()"
   ]
  },
  {
   "cell_type": "raw",
   "metadata": {},
   "source": [
    "MODE OF EACH FEATURE"
   ]
  },
  {
   "cell_type": "code",
   "execution_count": 31,
   "metadata": {},
   "outputs": [
    {
     "data": {
      "text/html": [
       "<div>\n",
       "<style scoped>\n",
       "    .dataframe tbody tr th:only-of-type {\n",
       "        vertical-align: middle;\n",
       "    }\n",
       "\n",
       "    .dataframe tbody tr th {\n",
       "        vertical-align: top;\n",
       "    }\n",
       "\n",
       "    .dataframe thead th {\n",
       "        text-align: right;\n",
       "    }\n",
       "</style>\n",
       "<table border=\"1\" class=\"dataframe\">\n",
       "  <thead>\n",
       "    <tr style=\"text-align: right;\">\n",
       "      <th></th>\n",
       "      <th>AGE</th>\n",
       "      <th>GENDER</th>\n",
       "      <th>IS_COBRAND</th>\n",
       "      <th>TIER</th>\n",
       "      <th>YEARS_IN_PROGRAM</th>\n",
       "      <th>IS_AIRACCRUAL</th>\n",
       "      <th>IS_HOTELREDEMPTION</th>\n",
       "      <th>IS_INACTIVE</th>\n",
       "    </tr>\n",
       "  </thead>\n",
       "  <tbody>\n",
       "    <tr>\n",
       "      <th>0</th>\n",
       "      <td>23</td>\n",
       "      <td>male</td>\n",
       "      <td>0</td>\n",
       "      <td>gold</td>\n",
       "      <td>6</td>\n",
       "      <td>0</td>\n",
       "      <td>1</td>\n",
       "      <td>1</td>\n",
       "    </tr>\n",
       "  </tbody>\n",
       "</table>\n",
       "</div>"
      ],
      "text/plain": [
       "   AGE GENDER  IS_COBRAND  TIER  YEARS_IN_PROGRAM  IS_AIRACCRUAL  \\\n",
       "0   23   male           0  gold                 6              0   \n",
       "\n",
       "   IS_HOTELREDEMPTION  IS_INACTIVE  \n",
       "0                   1            1  "
      ]
     },
     "execution_count": 31,
     "metadata": {},
     "output_type": "execute_result"
    }
   ],
   "source": [
    "air.mode()"
   ]
  },
  {
   "cell_type": "markdown",
   "metadata": {},
   "source": [
    "REPLACING UKNOWN WITH MALE AS GENDER IS A DISCRETE CATEGORICAL DATA."
   ]
  },
  {
   "cell_type": "code",
   "execution_count": 32,
   "metadata": {},
   "outputs": [
    {
     "data": {
      "text/plain": [
       "array(['male', 'female'], dtype=object)"
      ]
     },
     "execution_count": 32,
     "metadata": {},
     "output_type": "execute_result"
    }
   ],
   "source": [
    "air.GENDER = air.GENDER.str.replace('unknown', 'male')\n",
    "air['GENDER'].unique()"
   ]
  },
  {
   "cell_type": "markdown",
   "metadata": {},
   "source": [
    "#### 2ND BUSINESS MOMENT DECISION(VARIANCE,STANADARD DEVIATION AND RANGE)"
   ]
  },
  {
   "cell_type": "code",
   "execution_count": 33,
   "metadata": {},
   "outputs": [
    {
     "name": "stdout",
     "output_type": "stream",
     "text": [
      "Variances:\n",
      "-------------------------------\n",
      "AGE                   331.097523\n",
      "IS_COBRAND              0.250000\n",
      "YEARS_IN_PROGRAM       10.015307\n",
      "IS_AIRACCRUAL           0.249998\n",
      "IS_HOTELREDEMPTION      0.249997\n",
      "IS_INACTIVE             0.249993\n",
      "dtype: float64\n",
      "\n",
      "Standard Deviation:\n",
      "-------------------------------\n",
      "AGE                   18.196085\n",
      "IS_COBRAND             0.500000\n",
      "YEARS_IN_PROGRAM       3.164697\n",
      "IS_AIRACCRUAL          0.499998\n",
      "IS_HOTELREDEMPTION     0.499997\n",
      "IS_INACTIVE            0.499993\n",
      "dtype: float64\n"
     ]
    },
    {
     "name": "stderr",
     "output_type": "stream",
     "text": [
      "/Users/noshitha/opt/anaconda3/lib/python3.9/site-packages/numpy/core/fromnumeric.py:3755: FutureWarning: Dropping of nuisance columns in DataFrame reductions (with 'numeric_only=None') is deprecated; in a future version this will raise TypeError.  Select only valid columns before calling the reduction.\n",
      "  return var(axis=axis, dtype=dtype, out=out, ddof=ddof, **kwargs)\n",
      "/Users/noshitha/opt/anaconda3/lib/python3.9/site-packages/numpy/core/fromnumeric.py:3613: FutureWarning: Dropping of nuisance columns in DataFrame reductions (with 'numeric_only=None') is deprecated; in a future version this will raise TypeError.  Select only valid columns before calling the reduction.\n",
      "  return std(axis=axis, dtype=dtype, out=out, ddof=ddof, **kwargs)\n"
     ]
    }
   ],
   "source": [
    "print(\"Variances:\")\n",
    "print(\"-------------------------------\")\n",
    "print(np.var(air))\n",
    "print(\"\\nStandard Deviation:\")\n",
    "print(\"-------------------------------\")\n",
    "print(np.std(air))\n"
   ]
  },
  {
   "cell_type": "code",
   "execution_count": 34,
   "metadata": {
    "scrolled": true
   },
   "outputs": [
    {
     "name": "stdout",
     "output_type": "stream",
     "text": [
      "\n",
      "Range\n",
      "-------------------------------\n",
      "AGE:    62\n",
      "IS_COBRAND:    1\n",
      "\n",
      "YEARS_IN_PROGRAM:    10\n",
      "IS_AIRACCRUAL:    1\n",
      "IS_HOTELREDEMPTION:    1\n",
      "IS_INACTIVE:    1\n"
     ]
    }
   ],
   "source": [
    "print(\"\\nRange\")\n",
    "print(\"-------------------------------\")\n",
    "for c in air.columns:\n",
    "    if c==\"GENDER\":\n",
    "          continue\n",
    "    elif c==\"TIER\":\n",
    "        print(\"\")\n",
    "    else:\n",
    "        print(c+\":    \"+str(max(air[c])-min(air[c])))"
   ]
  },
  {
   "cell_type": "markdown",
   "metadata": {},
   "source": [
    "#### 3RD BMD(SKEWNESS )"
   ]
  },
  {
   "cell_type": "code",
   "execution_count": 35,
   "metadata": {},
   "outputs": [
    {
     "name": "stdout",
     "output_type": "stream",
     "text": [
      "AGE:    0.007204250475998513\n",
      "IS_COBRAND:    0.0017200006360560327\n",
      "\n",
      "YEARS_IN_PROGRAM:    0.004043950944552483\n",
      "IS_AIRACCRUAL:    0.004920014887003781\n",
      "IS_HOTELREDEMPTION:    -0.006640036594670585\n",
      "IS_INACTIVE:    -0.010360138994629073\n"
     ]
    }
   ],
   "source": [
    "for c in air.columns:\n",
    "    if c == \"GENDER\":\n",
    "        continue\n",
    "    elif c==\"TIER\":\n",
    "         print(\"\") \n",
    "    else:\n",
    "        print(c+\":    \"+ str(stats.skew(air[c])))\n"
   ]
  },
  {
   "cell_type": "markdown",
   "metadata": {},
   "source": [
    "FOR AGE , IS_COBRAND,YEARS AND AIR ACCURAL SKEWNESS IS +VE .. IT STATES MEAN>MEDIAN DATA OF THAT FEATURES ARE RIGHT SKEWED."
   ]
  },
  {
   "cell_type": "markdown",
   "metadata": {},
   "source": [
    "FOR HOTEL REDEMPTION SKEWNESS IS -VE IT STATES MEAN<MEDIAN"
   ]
  },
  {
   "cell_type": "markdown",
   "metadata": {},
   "source": [
    "#### 4TH BMD (KURTOSIS)"
   ]
  },
  {
   "cell_type": "code",
   "execution_count": 36,
   "metadata": {},
   "outputs": [
    {
     "name": "stdout",
     "output_type": "stream",
     "text": [
      "AGE:    -1.2005133964756391\n",
      "IS_COBRAND:    -1.9999970415978119\n",
      "\n",
      "YEARS_IN_PROGRAM:    -1.2201291906520408\n",
      "IS_AIRACCRUAL:    -1.999975793453511\n",
      "IS_HOTELREDEMPTION:    -1.9999559099140214\n",
      "IS_INACTIVE:    -1.9998926675200126\n"
     ]
    }
   ],
   "source": [
    "for c in air.columns:\n",
    "    if c == \"GENDER\":\n",
    "        continue\n",
    "    elif c==\"TIER\":\n",
    "         print(\"\") \n",
    "    else:\n",
    "        print(c+\":    \"+ str(stats.kurtosis(air[c])))\n"
   ]
  },
  {
   "cell_type": "markdown",
   "metadata": {},
   "source": [
    "\n",
    "KURTOSIS IS <3 FOR ALL FEATURES IT MEANS LESS OUTLIERS ,LESS STANDARD DEVIATIONS.. OUR DATA SET GOOD. BUT WE STILL TREAT OR DO ACTION ON OUTLIERS FOR BETTER ACCURACY."
   ]
  },
  {
   "cell_type": "markdown",
   "metadata": {},
   "source": [
    "###### VISUALIZATIONS TO GET BETTER INSIGHTS ON PATTERNS IN DATA "
   ]
  },
  {
   "cell_type": "markdown",
   "metadata": {},
   "source": [
    "###### NORMAL DISTRIBUTION OF FEATURES"
   ]
  },
  {
   "cell_type": "code",
   "execution_count": 37,
   "metadata": {},
   "outputs": [
    {
     "data": {
      "image/png": "[encoded data removed]",
      "text/plain": [
       "<Figure size 432x288 with 1 Axes>"
      ]
     },
     "metadata": {
      "needs_background": "light"
     },
     "output_type": "display_data"
    }
   ],
   "source": [
    "t=air.AGE\n",
    "fit = stats.norm.pdf(t, np.mean(t), np.std(t))  \n",
    "plt.plot(t,fit,'-0')\n",
    "plt.hist(t,density=True)\n",
    "plt.xlabel(\"age\")\n",
    "plt.show()              "
   ]
  },
  {
   "cell_type": "code",
   "execution_count": 38,
   "metadata": {},
   "outputs": [
    {
     "data": {
      "image/png": "[encoded data removed]",
      "text/plain": [
       "<Figure size 432x288 with 1 Axes>"
      ]
     },
     "metadata": {
      "needs_background": "light"
     },
     "output_type": "display_data"
    }
   ],
   "source": [
    "t=air.IS_COBRAND\n",
    "fit = stats.norm.pdf(t, np.mean(t), np.std(t))  \n",
    "plt.plot(t,fit,'-o')\n",
    "plt.hist(t,density=True)\n",
    "plt.xlabel(\"cobrand\")\n",
    "plt.show()   \n"
   ]
  },
  {
   "cell_type": "code",
   "execution_count": 39,
   "metadata": {},
   "outputs": [
    {
     "data": {
      "image/png": "[encoded data removed]",
      "text/plain": [
       "<Figure size 432x288 with 1 Axes>"
      ]
     },
     "metadata": {
      "needs_background": "light"
     },
     "output_type": "display_data"
    }
   ],
   "source": [
    "t=air.YEARS_IN_PROGRAM\n",
    "fit = stats.norm.pdf(t, np.mean(t), np.std(t))  \n",
    "plt.plot(t,fit,'-o')\n",
    "plt.hist(t,density=True)\n",
    "plt.xlabel(\"years in program\")\n",
    "plt.show()   \n"
   ]
  },
  {
   "cell_type": "code",
   "execution_count": 40,
   "metadata": {},
   "outputs": [
    {
     "data": {
      "image/png": "[encoded data removed]",
      "text/plain": [
       "<Figure size 432x288 with 1 Axes>"
      ]
     },
     "metadata": {
      "needs_background": "light"
     },
     "output_type": "display_data"
    }
   ],
   "source": [
    "t=air.IS_AIRACCRUAL\n",
    "fit = stats.norm.pdf(t, np.mean(t), np.std(t))  \n",
    "plt.plot(t,fit,'-o')\n",
    "plt.hist(t,density=True)\n",
    "plt.xlabel(\"ACCrualL\")\n",
    "plt.show()   "
   ]
  },
  {
   "cell_type": "code",
   "execution_count": 41,
   "metadata": {},
   "outputs": [
    {
     "data": {
      "image/png": "[encoded data removed]",
      "text/plain": [
       "<Figure size 432x288 with 1 Axes>"
      ]
     },
     "metadata": {
      "needs_background": "light"
     },
     "output_type": "display_data"
    }
   ],
   "source": [
    "t=air.IS_HOTELREDEMPTION\n",
    "fit = stats.norm.pdf(t, np.mean(t), np.std(t))  \n",
    "plt.plot(t,fit,'-o')\n",
    "plt.hist(t,density=True)\n",
    "plt.xlabel(\"hotel redemption\")\n",
    "plt.show()   \n"
   ]
  },
  {
   "cell_type": "code",
   "execution_count": 42,
   "metadata": {
    "scrolled": true
   },
   "outputs": [
    {
     "data": {
      "image/png": "[encoded data removed]",
      "text/plain": [
       "<Figure size 432x288 with 1 Axes>"
      ]
     },
     "metadata": {
      "needs_background": "light"
     },
     "output_type": "display_data"
    }
   ],
   "source": [
    "t=air.IS_INACTIVE\n",
    "fit = stats.norm.pdf(t, np.mean(t), np.std(t))  \n",
    "plt.plot(t,fit,'-o')\n",
    "plt.hist(t,density=True)\n",
    "plt.xlabel(\"is_inactive\")\n",
    "plt.show()   \n"
   ]
  },
  {
   "cell_type": "markdown",
   "metadata": {},
   "source": [
    "### CORRELATION"
   ]
  },
  {
   "cell_type": "code",
   "execution_count": 43,
   "metadata": {},
   "outputs": [
    {
     "data": {
      "text/html": [
       "<div>\n",
       "<style scoped>\n",
       "    .dataframe tbody tr th:only-of-type {\n",
       "        vertical-align: middle;\n",
       "    }\n",
       "\n",
       "    .dataframe tbody tr th {\n",
       "        vertical-align: top;\n",
       "    }\n",
       "\n",
       "    .dataframe thead th {\n",
       "        text-align: right;\n",
       "    }\n",
       "</style>\n",
       "<table border=\"1\" class=\"dataframe\">\n",
       "  <thead>\n",
       "    <tr style=\"text-align: right;\">\n",
       "      <th></th>\n",
       "      <th>AGE</th>\n",
       "      <th>IS_COBRAND</th>\n",
       "      <th>YEARS_IN_PROGRAM</th>\n",
       "      <th>IS_AIRACCRUAL</th>\n",
       "      <th>IS_HOTELREDEMPTION</th>\n",
       "      <th>IS_INACTIVE</th>\n",
       "    </tr>\n",
       "  </thead>\n",
       "  <tbody>\n",
       "    <tr>\n",
       "      <th>AGE</th>\n",
       "      <td>1.000000</td>\n",
       "      <td>-0.000738</td>\n",
       "      <td>-0.009567</td>\n",
       "      <td>-0.003297</td>\n",
       "      <td>0.006899</td>\n",
       "      <td>0.003691</td>\n",
       "    </tr>\n",
       "    <tr>\n",
       "      <th>IS_COBRAND</th>\n",
       "      <td>-0.000738</td>\n",
       "      <td>1.000000</td>\n",
       "      <td>-0.008224</td>\n",
       "      <td>-0.001842</td>\n",
       "      <td>-0.000937</td>\n",
       "      <td>-0.001556</td>\n",
       "    </tr>\n",
       "    <tr>\n",
       "      <th>YEARS_IN_PROGRAM</th>\n",
       "      <td>-0.009567</td>\n",
       "      <td>-0.008224</td>\n",
       "      <td>1.000000</td>\n",
       "      <td>0.002301</td>\n",
       "      <td>-0.001269</td>\n",
       "      <td>-0.005385</td>\n",
       "    </tr>\n",
       "    <tr>\n",
       "      <th>IS_AIRACCRUAL</th>\n",
       "      <td>-0.003297</td>\n",
       "      <td>-0.001842</td>\n",
       "      <td>0.002301</td>\n",
       "      <td>1.000000</td>\n",
       "      <td>-0.005012</td>\n",
       "      <td>0.003293</td>\n",
       "    </tr>\n",
       "    <tr>\n",
       "      <th>IS_HOTELREDEMPTION</th>\n",
       "      <td>0.006899</td>\n",
       "      <td>-0.000937</td>\n",
       "      <td>-0.001269</td>\n",
       "      <td>-0.005012</td>\n",
       "      <td>1.000000</td>\n",
       "      <td>0.008563</td>\n",
       "    </tr>\n",
       "    <tr>\n",
       "      <th>IS_INACTIVE</th>\n",
       "      <td>0.003691</td>\n",
       "      <td>-0.001556</td>\n",
       "      <td>-0.005385</td>\n",
       "      <td>0.003293</td>\n",
       "      <td>0.008563</td>\n",
       "      <td>1.000000</td>\n",
       "    </tr>\n",
       "  </tbody>\n",
       "</table>\n",
       "</div>"
      ],
      "text/plain": [
       "                         AGE  IS_COBRAND  YEARS_IN_PROGRAM  IS_AIRACCRUAL  \\\n",
       "AGE                 1.000000   -0.000738         -0.009567      -0.003297   \n",
       "IS_COBRAND         -0.000738    1.000000         -0.008224      -0.001842   \n",
       "YEARS_IN_PROGRAM   -0.009567   -0.008224          1.000000       0.002301   \n",
       "IS_AIRACCRUAL      -0.003297   -0.001842          0.002301       1.000000   \n",
       "IS_HOTELREDEMPTION  0.006899   -0.000937         -0.001269      -0.005012   \n",
       "IS_INACTIVE         0.003691   -0.001556         -0.005385       0.003293   \n",
       "\n",
       "                    IS_HOTELREDEMPTION  IS_INACTIVE  \n",
       "AGE                           0.006899     0.003691  \n",
       "IS_COBRAND                   -0.000937    -0.001556  \n",
       "YEARS_IN_PROGRAM             -0.001269    -0.005385  \n",
       "IS_AIRACCRUAL                -0.005012     0.003293  \n",
       "IS_HOTELREDEMPTION            1.000000     0.008563  \n",
       "IS_INACTIVE                   0.008563     1.000000  "
      ]
     },
     "execution_count": 43,
     "metadata": {},
     "output_type": "execute_result"
    }
   ],
   "source": [
    "air.corr()"
   ]
  },
  {
   "cell_type": "code",
   "execution_count": 44,
   "metadata": {},
   "outputs": [
    {
     "data": {
      "text/plain": [
       "<AxesSubplot:>"
      ]
     },
     "execution_count": 44,
     "metadata": {},
     "output_type": "execute_result"
    },
    {
     "data": {
      "image/png": "[encoded data removed]",
      "text/plain": [
       "<Figure size 432x288 with 2 Axes>"
      ]
     },
     "metadata": {
      "needs_background": "light"
     },
     "output_type": "display_data"
    }
   ],
   "source": [
    "sns.heatmap(air.corr())"
   ]
  },
  {
   "cell_type": "markdown",
   "metadata": {},
   "source": [
    "out put variable have high correlation with is_ hotel redemption compared to others but not much correlation to preidict exactly the  output variable"
   ]
  },
  {
   "cell_type": "markdown",
   "metadata": {},
   "source": [
    "# PEARSONS CORRELATION CO-EFFIECIENT"
   ]
  },
  {
   "cell_type": "code",
   "execution_count": 45,
   "metadata": {
    "scrolled": true
   },
   "outputs": [
    {
     "name": "stdout",
     "output_type": "stream",
     "text": [
      "Pearsons correlation:\n",
      "(-0.009566946517158878, 0.0024833279919790757)\n",
      "--------------------\n"
     ]
    }
   ],
   "source": [
    "from scipy.stats import pearsonr\n",
    "from scipy.stats import spearmanr\n",
    "\n",
    "print(\"Pearsons correlation:\")\n",
    "corr = pearsonr(air.AGE, air.YEARS_IN_PROGRAM)\n",
    "print(corr)\n",
    "print(\"--------------------\")"
   ]
  },
  {
   "cell_type": "code",
   "execution_count": 46,
   "metadata": {},
   "outputs": [
    {
     "data": {
      "text/plain": [
       "SpearmanrResult(correlation=0.008562964474921355, pvalue=0.006771798679757948)"
      ]
     },
     "execution_count": 46,
     "metadata": {},
     "output_type": "execute_result"
    }
   ],
   "source": [
    "spearmanr(air['IS_HOTELREDEMPTION'],air['IS_INACTIVE'])"
   ]
  },
  {
   "cell_type": "markdown",
   "metadata": {},
   "source": [
    "# CONTINGENCY TABLE"
   ]
  },
  {
   "cell_type": "code",
   "execution_count": 47,
   "metadata": {
    "scrolled": true
   },
   "outputs": [
    {
     "data": {
      "text/html": [
       "<div>\n",
       "<style scoped>\n",
       "    .dataframe tbody tr th:only-of-type {\n",
       "        vertical-align: middle;\n",
       "    }\n",
       "\n",
       "    .dataframe tbody tr th {\n",
       "        vertical-align: top;\n",
       "    }\n",
       "\n",
       "    .dataframe thead th {\n",
       "        text-align: right;\n",
       "    }\n",
       "</style>\n",
       "<table border=\"1\" class=\"dataframe\">\n",
       "  <thead>\n",
       "    <tr style=\"text-align: right;\">\n",
       "      <th>IS_INACTIVE</th>\n",
       "      <th>0</th>\n",
       "      <th>1</th>\n",
       "      <th>All</th>\n",
       "    </tr>\n",
       "    <tr>\n",
       "      <th>GENDER</th>\n",
       "      <th></th>\n",
       "      <th></th>\n",
       "      <th></th>\n",
       "    </tr>\n",
       "  </thead>\n",
       "  <tbody>\n",
       "    <tr>\n",
       "      <th>female</th>\n",
       "      <td>16542</td>\n",
       "      <td>16747</td>\n",
       "      <td>33289</td>\n",
       "    </tr>\n",
       "    <tr>\n",
       "      <th>male</th>\n",
       "      <td>33199</td>\n",
       "      <td>33512</td>\n",
       "      <td>66711</td>\n",
       "    </tr>\n",
       "    <tr>\n",
       "      <th>All</th>\n",
       "      <td>49741</td>\n",
       "      <td>50259</td>\n",
       "      <td>100000</td>\n",
       "    </tr>\n",
       "  </tbody>\n",
       "</table>\n",
       "</div>"
      ],
      "text/plain": [
       "IS_INACTIVE      0      1     All\n",
       "GENDER                           \n",
       "female       16542  16747   33289\n",
       "male         33199  33512   66711\n",
       "All          49741  50259  100000"
      ]
     },
     "execution_count": 47,
     "metadata": {},
     "output_type": "execute_result"
    }
   ],
   "source": [
    "pd.crosstab(air['GENDER'],air['IS_INACTIVE'],margins=True)"
   ]
  },
  {
   "cell_type": "code",
   "execution_count": 48,
   "metadata": {},
   "outputs": [
    {
     "data": {
      "text/html": [
       "<div>\n",
       "<style scoped>\n",
       "    .dataframe tbody tr th:only-of-type {\n",
       "        vertical-align: middle;\n",
       "    }\n",
       "\n",
       "    .dataframe tbody tr th {\n",
       "        vertical-align: top;\n",
       "    }\n",
       "\n",
       "    .dataframe thead th {\n",
       "        text-align: right;\n",
       "    }\n",
       "</style>\n",
       "<table border=\"1\" class=\"dataframe\">\n",
       "  <thead>\n",
       "    <tr style=\"text-align: right;\">\n",
       "      <th>IS_INACTIVE</th>\n",
       "      <th>0</th>\n",
       "      <th>1</th>\n",
       "      <th>All</th>\n",
       "    </tr>\n",
       "    <tr>\n",
       "      <th>IS_COBRAND</th>\n",
       "      <th></th>\n",
       "      <th></th>\n",
       "      <th></th>\n",
       "    </tr>\n",
       "  </thead>\n",
       "  <tbody>\n",
       "    <tr>\n",
       "      <th>0</th>\n",
       "      <td>24853</td>\n",
       "      <td>25190</td>\n",
       "      <td>50043</td>\n",
       "    </tr>\n",
       "    <tr>\n",
       "      <th>1</th>\n",
       "      <td>24888</td>\n",
       "      <td>25069</td>\n",
       "      <td>49957</td>\n",
       "    </tr>\n",
       "    <tr>\n",
       "      <th>All</th>\n",
       "      <td>49741</td>\n",
       "      <td>50259</td>\n",
       "      <td>100000</td>\n",
       "    </tr>\n",
       "  </tbody>\n",
       "</table>\n",
       "</div>"
      ],
      "text/plain": [
       "IS_INACTIVE      0      1     All\n",
       "IS_COBRAND                       \n",
       "0            24853  25190   50043\n",
       "1            24888  25069   49957\n",
       "All          49741  50259  100000"
      ]
     },
     "execution_count": 48,
     "metadata": {},
     "output_type": "execute_result"
    }
   ],
   "source": [
    "pd.crosstab(air['IS_COBRAND'],air['IS_INACTIVE'],margins=True)"
   ]
  },
  {
   "cell_type": "code",
   "execution_count": 49,
   "metadata": {},
   "outputs": [
    {
     "data": {
      "text/html": [
       "<div>\n",
       "<style scoped>\n",
       "    .dataframe tbody tr th:only-of-type {\n",
       "        vertical-align: middle;\n",
       "    }\n",
       "\n",
       "    .dataframe tbody tr th {\n",
       "        vertical-align: top;\n",
       "    }\n",
       "\n",
       "    .dataframe thead th {\n",
       "        text-align: right;\n",
       "    }\n",
       "</style>\n",
       "<table border=\"1\" class=\"dataframe\">\n",
       "  <thead>\n",
       "    <tr style=\"text-align: right;\">\n",
       "      <th>IS_INACTIVE</th>\n",
       "      <th>0</th>\n",
       "      <th>1</th>\n",
       "      <th>All</th>\n",
       "    </tr>\n",
       "    <tr>\n",
       "      <th>TIER</th>\n",
       "      <th></th>\n",
       "      <th></th>\n",
       "      <th></th>\n",
       "    </tr>\n",
       "  </thead>\n",
       "  <tbody>\n",
       "    <tr>\n",
       "      <th>base</th>\n",
       "      <td>12213</td>\n",
       "      <td>12571</td>\n",
       "      <td>24784</td>\n",
       "    </tr>\n",
       "    <tr>\n",
       "      <th>gold</th>\n",
       "      <td>12602</td>\n",
       "      <td>12604</td>\n",
       "      <td>25206</td>\n",
       "    </tr>\n",
       "    <tr>\n",
       "      <th>platinum</th>\n",
       "      <td>12472</td>\n",
       "      <td>12480</td>\n",
       "      <td>24952</td>\n",
       "    </tr>\n",
       "    <tr>\n",
       "      <th>silver</th>\n",
       "      <td>12454</td>\n",
       "      <td>12604</td>\n",
       "      <td>25058</td>\n",
       "    </tr>\n",
       "    <tr>\n",
       "      <th>All</th>\n",
       "      <td>49741</td>\n",
       "      <td>50259</td>\n",
       "      <td>100000</td>\n",
       "    </tr>\n",
       "  </tbody>\n",
       "</table>\n",
       "</div>"
      ],
      "text/plain": [
       "IS_INACTIVE      0      1     All\n",
       "TIER                             \n",
       "base         12213  12571   24784\n",
       "gold         12602  12604   25206\n",
       "platinum     12472  12480   24952\n",
       "silver       12454  12604   25058\n",
       "All          49741  50259  100000"
      ]
     },
     "execution_count": 49,
     "metadata": {},
     "output_type": "execute_result"
    }
   ],
   "source": [
    "pd.crosstab(air['TIER'],air['IS_INACTIVE'],margins=True)"
   ]
  },
  {
   "cell_type": "code",
   "execution_count": 50,
   "metadata": {
    "scrolled": true
   },
   "outputs": [
    {
     "data": {
      "text/html": [
       "<div>\n",
       "<style scoped>\n",
       "    .dataframe tbody tr th:only-of-type {\n",
       "        vertical-align: middle;\n",
       "    }\n",
       "\n",
       "    .dataframe tbody tr th {\n",
       "        vertical-align: top;\n",
       "    }\n",
       "\n",
       "    .dataframe thead th {\n",
       "        text-align: right;\n",
       "    }\n",
       "</style>\n",
       "<table border=\"1\" class=\"dataframe\">\n",
       "  <thead>\n",
       "    <tr style=\"text-align: right;\">\n",
       "      <th>IS_INACTIVE</th>\n",
       "      <th>0</th>\n",
       "      <th>1</th>\n",
       "      <th>All</th>\n",
       "    </tr>\n",
       "    <tr>\n",
       "      <th>IS_AIRACCRUAL</th>\n",
       "      <th></th>\n",
       "      <th></th>\n",
       "      <th></th>\n",
       "    </tr>\n",
       "  </thead>\n",
       "  <tbody>\n",
       "    <tr>\n",
       "      <th>0</th>\n",
       "      <td>25014</td>\n",
       "      <td>25109</td>\n",
       "      <td>50123</td>\n",
       "    </tr>\n",
       "    <tr>\n",
       "      <th>1</th>\n",
       "      <td>24727</td>\n",
       "      <td>25150</td>\n",
       "      <td>49877</td>\n",
       "    </tr>\n",
       "    <tr>\n",
       "      <th>All</th>\n",
       "      <td>49741</td>\n",
       "      <td>50259</td>\n",
       "      <td>100000</td>\n",
       "    </tr>\n",
       "  </tbody>\n",
       "</table>\n",
       "</div>"
      ],
      "text/plain": [
       "IS_INACTIVE        0      1     All\n",
       "IS_AIRACCRUAL                      \n",
       "0              25014  25109   50123\n",
       "1              24727  25150   49877\n",
       "All            49741  50259  100000"
      ]
     },
     "execution_count": 50,
     "metadata": {},
     "output_type": "execute_result"
    }
   ],
   "source": [
    "pd.crosstab(air['IS_AIRACCRUAL'],air['IS_INACTIVE'],margins=True)"
   ]
  },
  {
   "cell_type": "code",
   "execution_count": 51,
   "metadata": {},
   "outputs": [
    {
     "data": {
      "text/html": [
       "<div>\n",
       "<style scoped>\n",
       "    .dataframe tbody tr th:only-of-type {\n",
       "        vertical-align: middle;\n",
       "    }\n",
       "\n",
       "    .dataframe tbody tr th {\n",
       "        vertical-align: top;\n",
       "    }\n",
       "\n",
       "    .dataframe thead th {\n",
       "        text-align: right;\n",
       "    }\n",
       "</style>\n",
       "<table border=\"1\" class=\"dataframe\">\n",
       "  <thead>\n",
       "    <tr style=\"text-align: right;\">\n",
       "      <th>IS_INACTIVE</th>\n",
       "      <th>0</th>\n",
       "      <th>1</th>\n",
       "      <th>All</th>\n",
       "    </tr>\n",
       "    <tr>\n",
       "      <th>IS_HOTELREDEMPTION</th>\n",
       "      <th></th>\n",
       "      <th></th>\n",
       "      <th></th>\n",
       "    </tr>\n",
       "  </thead>\n",
       "  <tbody>\n",
       "    <tr>\n",
       "      <th>0</th>\n",
       "      <td>25002</td>\n",
       "      <td>24832</td>\n",
       "      <td>49834</td>\n",
       "    </tr>\n",
       "    <tr>\n",
       "      <th>1</th>\n",
       "      <td>24739</td>\n",
       "      <td>25427</td>\n",
       "      <td>50166</td>\n",
       "    </tr>\n",
       "    <tr>\n",
       "      <th>All</th>\n",
       "      <td>49741</td>\n",
       "      <td>50259</td>\n",
       "      <td>100000</td>\n",
       "    </tr>\n",
       "  </tbody>\n",
       "</table>\n",
       "</div>"
      ],
      "text/plain": [
       "IS_INACTIVE             0      1     All\n",
       "IS_HOTELREDEMPTION                      \n",
       "0                   25002  24832   49834\n",
       "1                   24739  25427   50166\n",
       "All                 49741  50259  100000"
      ]
     },
     "execution_count": 51,
     "metadata": {},
     "output_type": "execute_result"
    }
   ],
   "source": [
    "pd.crosstab(air['IS_HOTELREDEMPTION'],air['IS_INACTIVE'],margins=True)"
   ]
  },
  {
   "cell_type": "markdown",
   "metadata": {},
   "source": [
    "# Chi squared test"
   ]
  },
  {
   "cell_type": "code",
   "execution_count": 52,
   "metadata": {},
   "outputs": [
    {
     "data": {
      "text/plain": [
       "(0.04774872048172908,\n",
       " 0.9997195031181223,\n",
       " 4,\n",
       " array([[ 16558.28149,  16730.71851,  33289.     ],\n",
       "        [ 33182.71851,  33528.28149,  66711.     ],\n",
       "        [ 49741.     ,  50259.     , 100000.     ]]))"
      ]
     },
     "execution_count": 52,
     "metadata": {},
     "output_type": "execute_result"
    }
   ],
   "source": [
    "crosstab=pd.crosstab(air['GENDER'],air['IS_INACTIVE'],margins=True)\n",
    "stats.chi2_contingency(crosstab)"
   ]
  },
  {
   "cell_type": "markdown",
   "metadata": {},
   "source": [
    "p-value is almost high which means NULL HYPOTHESIS IS TRUE that there is no much corelation existing!"
   ]
  },
  {
   "cell_type": "code",
   "execution_count": 53,
   "metadata": {
    "scrolled": false
   },
   "outputs": [
    {
     "data": {
      "text/plain": [
       "(0.24197875875785435,\n",
       " 0.9932452072976325,\n",
       " 4,\n",
       " array([[ 24891.88863,  25151.11137,  50043.     ],\n",
       "        [ 24849.11137,  25107.88863,  49957.     ],\n",
       "        [ 49741.     ,  50259.     , 100000.     ]]))"
      ]
     },
     "execution_count": 53,
     "metadata": {},
     "output_type": "execute_result"
    }
   ],
   "source": [
    "crosstab=pd.crosstab(air['IS_COBRAND'],air['IS_INACTIVE'],margins=True)\n",
    "stats.chi2_contingency(crosstab)"
   ]
  },
  {
   "cell_type": "markdown",
   "metadata": {},
   "source": [
    "P-Value is almost 0.99 which means NULL HYPOTHESIS is accepted that there is no much co relation existing"
   ]
  },
  {
   "cell_type": "code",
   "execution_count": 54,
   "metadata": {
    "scrolled": true
   },
   "outputs": [
    {
     "data": {
      "text/plain": [
       "(3.3887308871212913,\n",
       " 0.9076516066981493,\n",
       " 8,\n",
       " array([[ 12327.80944,  12456.19056,  24784.     ],\n",
       "        [ 12537.71646,  12668.28354,  25206.     ],\n",
       "        [ 12411.37432,  12540.62568,  24952.     ],\n",
       "        [ 12464.09978,  12593.90022,  25058.     ],\n",
       "        [ 49741.     ,  50259.     , 100000.     ]]))"
      ]
     },
     "execution_count": 54,
     "metadata": {},
     "output_type": "execute_result"
    }
   ],
   "source": [
    "crosstab=pd.crosstab(air['TIER'],air['IS_INACTIVE'],margins=True)\n",
    "stats.chi2_contingency(crosstab)"
   ]
  },
  {
   "cell_type": "markdown",
   "metadata": {},
   "source": [
    "p-value is greater than 0.5 which mean NULL HYPOTHESIS is accepted that there is no much co relaton existing"
   ]
  },
  {
   "cell_type": "code",
   "execution_count": 55,
   "metadata": {},
   "outputs": [
    {
     "data": {
      "text/plain": [
       "(1.0842511690345524,\n",
       " 0.8967628168869718,\n",
       " 4,\n",
       " array([[ 24931.68143,  25191.31857,  50123.     ],\n",
       "        [ 24809.31857,  25067.68143,  49877.     ],\n",
       "        [ 49741.     ,  50259.     , 100000.     ]]))"
      ]
     },
     "execution_count": 55,
     "metadata": {},
     "output_type": "execute_result"
    }
   ],
   "source": [
    "crosstab=pd.crosstab(air['IS_AIRACCRUAL'],air['IS_INACTIVE'],margins=True)\n",
    "stats.chi2_contingency(crosstab)"
   ]
  },
  {
   "cell_type": "markdown",
   "metadata": {},
   "source": [
    "P-Value is greater than 0.5 which means NULL HYPOTHESIS is accepted that there is no much correlation existing"
   ]
  },
  {
   "cell_type": "code",
   "execution_count": 56,
   "metadata": {},
   "outputs": [
    {
     "data": {
      "text/plain": [
       "(7.33243605987639,\n",
       " 0.11932921058052207,\n",
       " 4,\n",
       " array([[ 24787.92994,  25046.07006,  49834.     ],\n",
       "        [ 24953.07006,  25212.92994,  50166.     ],\n",
       "        [ 49741.     ,  50259.     , 100000.     ]]))"
      ]
     },
     "execution_count": 56,
     "metadata": {},
     "output_type": "execute_result"
    }
   ],
   "source": [
    "crosstab=pd.crosstab(air['IS_HOTELREDEMPTION'],air['IS_INACTIVE'],margins=True)\n",
    "stats.chi2_contingency(crosstab)"
   ]
  },
  {
   "cell_type": "markdown",
   "metadata": {},
   "source": [
    "P-value is less than 0.5 which means NULL HYPOTHESIS is rejected and there is correlation existing among them!"
   ]
  },
  {
   "cell_type": "markdown",
   "metadata": {},
   "source": [
    "CORRELATION AMONG IS_HOTELREDEMPTION AND IS_INACTIVE"
   ]
  },
  {
   "cell_type": "markdown",
   "metadata": {},
   "source": [
    "BOX PLOTS:"
   ]
  },
  {
   "cell_type": "code",
   "execution_count": 57,
   "metadata": {},
   "outputs": [
    {
     "data": {
      "image/png": "[encoded data removed]",
      "text/plain": [
       "<Figure size 432x288 with 1 Axes>"
      ]
     },
     "metadata": {
      "needs_background": "light"
     },
     "output_type": "display_data"
    },
    {
     "data": {
      "image/png": "[encoded data removed]",
      "text/plain": [
       "<Figure size 432x288 with 1 Axes>"
      ]
     },
     "metadata": {
      "needs_background": "light"
     },
     "output_type": "display_data"
    },
    {
     "name": "stdout",
     "output_type": "stream",
     "text": [
      "\n"
     ]
    },
    {
     "data": {
      "image/png": "[encoded data removed]",
      "text/plain": [
       "<Figure size 432x288 with 1 Axes>"
      ]
     },
     "metadata": {
      "needs_background": "light"
     },
     "output_type": "display_data"
    },
    {
     "data": {
      "image/png": "[encoded data removed]",
      "text/plain": [
       "<Figure size 432x288 with 1 Axes>"
      ]
     },
     "metadata": {
      "needs_background": "light"
     },
     "output_type": "display_data"
    },
    {
     "data": {
      "image/png": "[encoded data removed]",
      "text/plain": [
       "<Figure size 432x288 with 1 Axes>"
      ]
     },
     "metadata": {
      "needs_background": "light"
     },
     "output_type": "display_data"
    },
    {
     "data": {
      "image/png": "[encoded data removed]",
      "text/plain": [
       "<Figure size 432x288 with 1 Axes>"
      ]
     },
     "metadata": {
      "needs_background": "light"
     },
     "output_type": "display_data"
    }
   ],
   "source": [
    "for c in air.columns:\n",
    "    if c == \"GENDER\":\n",
    "        continue\n",
    "    elif c==\"TIER\":\n",
    "        print(\"\")\n",
    "    else:\n",
    "        plt.boxplot(air[c])\n",
    "        plt.xlabel(c)\n",
    "        plt.show()\n"
   ]
  },
  {
   "cell_type": "raw",
   "metadata": {},
   "source": [
    "FROM BOX PLOT WE CAN CLEARLY OBSERVE THERE ARE NO OUTLIERS"
   ]
  },
  {
   "cell_type": "markdown",
   "metadata": {},
   "source": [
    "# DUMMIES CREATION"
   ]
  },
  {
   "cell_type": "code",
   "execution_count": 58,
   "metadata": {},
   "outputs": [
    {
     "data": {
      "text/html": [
       "<div>\n",
       "<style scoped>\n",
       "    .dataframe tbody tr th:only-of-type {\n",
       "        vertical-align: middle;\n",
       "    }\n",
       "\n",
       "    .dataframe tbody tr th {\n",
       "        vertical-align: top;\n",
       "    }\n",
       "\n",
       "    .dataframe thead th {\n",
       "        text-align: right;\n",
       "    }\n",
       "</style>\n",
       "<table border=\"1\" class=\"dataframe\">\n",
       "  <thead>\n",
       "    <tr style=\"text-align: right;\">\n",
       "      <th></th>\n",
       "      <th>AGE</th>\n",
       "      <th>GENDER</th>\n",
       "      <th>IS_COBRAND</th>\n",
       "      <th>TIER</th>\n",
       "      <th>YEARS_IN_PROGRAM</th>\n",
       "      <th>IS_AIRACCRUAL</th>\n",
       "      <th>IS_HOTELREDEMPTION</th>\n",
       "      <th>IS_INACTIVE</th>\n",
       "      <th>base</th>\n",
       "      <th>gold</th>\n",
       "      <th>platinum</th>\n",
       "      <th>silver</th>\n",
       "    </tr>\n",
       "  </thead>\n",
       "  <tbody>\n",
       "    <tr>\n",
       "      <th>0</th>\n",
       "      <td>60</td>\n",
       "      <td>male</td>\n",
       "      <td>0</td>\n",
       "      <td>gold</td>\n",
       "      <td>3</td>\n",
       "      <td>1</td>\n",
       "      <td>0</td>\n",
       "      <td>1</td>\n",
       "      <td>0</td>\n",
       "      <td>1</td>\n",
       "      <td>0</td>\n",
       "      <td>0</td>\n",
       "    </tr>\n",
       "    <tr>\n",
       "      <th>1</th>\n",
       "      <td>74</td>\n",
       "      <td>male</td>\n",
       "      <td>1</td>\n",
       "      <td>base</td>\n",
       "      <td>2</td>\n",
       "      <td>0</td>\n",
       "      <td>1</td>\n",
       "      <td>0</td>\n",
       "      <td>1</td>\n",
       "      <td>0</td>\n",
       "      <td>0</td>\n",
       "      <td>0</td>\n",
       "    </tr>\n",
       "    <tr>\n",
       "      <th>2</th>\n",
       "      <td>29</td>\n",
       "      <td>female</td>\n",
       "      <td>0</td>\n",
       "      <td>gold</td>\n",
       "      <td>11</td>\n",
       "      <td>0</td>\n",
       "      <td>1</td>\n",
       "      <td>0</td>\n",
       "      <td>0</td>\n",
       "      <td>1</td>\n",
       "      <td>0</td>\n",
       "      <td>0</td>\n",
       "    </tr>\n",
       "    <tr>\n",
       "      <th>3</th>\n",
       "      <td>25</td>\n",
       "      <td>male</td>\n",
       "      <td>0</td>\n",
       "      <td>gold</td>\n",
       "      <td>3</td>\n",
       "      <td>1</td>\n",
       "      <td>1</td>\n",
       "      <td>0</td>\n",
       "      <td>0</td>\n",
       "      <td>1</td>\n",
       "      <td>0</td>\n",
       "      <td>0</td>\n",
       "    </tr>\n",
       "    <tr>\n",
       "      <th>4</th>\n",
       "      <td>29</td>\n",
       "      <td>female</td>\n",
       "      <td>1</td>\n",
       "      <td>base</td>\n",
       "      <td>8</td>\n",
       "      <td>1</td>\n",
       "      <td>1</td>\n",
       "      <td>1</td>\n",
       "      <td>1</td>\n",
       "      <td>0</td>\n",
       "      <td>0</td>\n",
       "      <td>0</td>\n",
       "    </tr>\n",
       "  </tbody>\n",
       "</table>\n",
       "</div>"
      ],
      "text/plain": [
       "   AGE  GENDER  IS_COBRAND  TIER  YEARS_IN_PROGRAM  IS_AIRACCRUAL  \\\n",
       "0   60    male           0  gold                 3              1   \n",
       "1   74    male           1  base                 2              0   \n",
       "2   29  female           0  gold                11              0   \n",
       "3   25    male           0  gold                 3              1   \n",
       "4   29  female           1  base                 8              1   \n",
       "\n",
       "   IS_HOTELREDEMPTION  IS_INACTIVE  base  gold  platinum  silver  \n",
       "0                   0            1     0     1         0       0  \n",
       "1                   1            0     1     0         0       0  \n",
       "2                   1            0     0     1         0       0  \n",
       "3                   1            0     0     1         0       0  \n",
       "4                   1            1     1     0         0       0  "
      ]
     },
     "execution_count": 58,
     "metadata": {},
     "output_type": "execute_result"
    }
   ],
   "source": [
    "dummy1 =pd.get_dummies(air['TIER'])\n",
    "dummy1.head()\n",
    "air = pd.concat([air,dummy1],axis=1)\n",
    "air.head()"
   ]
  },
  {
   "cell_type": "code",
   "execution_count": 59,
   "metadata": {},
   "outputs": [],
   "source": [
    "air=air.drop(columns=['GENDER','TIER'])"
   ]
  },
  {
   "cell_type": "code",
   "execution_count": 60,
   "metadata": {},
   "outputs": [
    {
     "data": {
      "text/html": [
       "<div>\n",
       "<style scoped>\n",
       "    .dataframe tbody tr th:only-of-type {\n",
       "        vertical-align: middle;\n",
       "    }\n",
       "\n",
       "    .dataframe tbody tr th {\n",
       "        vertical-align: top;\n",
       "    }\n",
       "\n",
       "    .dataframe thead th {\n",
       "        text-align: right;\n",
       "    }\n",
       "</style>\n",
       "<table border=\"1\" class=\"dataframe\">\n",
       "  <thead>\n",
       "    <tr style=\"text-align: right;\">\n",
       "      <th></th>\n",
       "      <th>AGE</th>\n",
       "      <th>IS_COBRAND</th>\n",
       "      <th>YEARS_IN_PROGRAM</th>\n",
       "      <th>IS_AIRACCRUAL</th>\n",
       "      <th>IS_HOTELREDEMPTION</th>\n",
       "      <th>IS_INACTIVE</th>\n",
       "      <th>base</th>\n",
       "      <th>gold</th>\n",
       "      <th>platinum</th>\n",
       "      <th>silver</th>\n",
       "    </tr>\n",
       "  </thead>\n",
       "  <tbody>\n",
       "    <tr>\n",
       "      <th>0</th>\n",
       "      <td>60</td>\n",
       "      <td>0</td>\n",
       "      <td>3</td>\n",
       "      <td>1</td>\n",
       "      <td>0</td>\n",
       "      <td>1</td>\n",
       "      <td>0</td>\n",
       "      <td>1</td>\n",
       "      <td>0</td>\n",
       "      <td>0</td>\n",
       "    </tr>\n",
       "    <tr>\n",
       "      <th>1</th>\n",
       "      <td>74</td>\n",
       "      <td>1</td>\n",
       "      <td>2</td>\n",
       "      <td>0</td>\n",
       "      <td>1</td>\n",
       "      <td>0</td>\n",
       "      <td>1</td>\n",
       "      <td>0</td>\n",
       "      <td>0</td>\n",
       "      <td>0</td>\n",
       "    </tr>\n",
       "    <tr>\n",
       "      <th>2</th>\n",
       "      <td>29</td>\n",
       "      <td>0</td>\n",
       "      <td>11</td>\n",
       "      <td>0</td>\n",
       "      <td>1</td>\n",
       "      <td>0</td>\n",
       "      <td>0</td>\n",
       "      <td>1</td>\n",
       "      <td>0</td>\n",
       "      <td>0</td>\n",
       "    </tr>\n",
       "    <tr>\n",
       "      <th>3</th>\n",
       "      <td>25</td>\n",
       "      <td>0</td>\n",
       "      <td>3</td>\n",
       "      <td>1</td>\n",
       "      <td>1</td>\n",
       "      <td>0</td>\n",
       "      <td>0</td>\n",
       "      <td>1</td>\n",
       "      <td>0</td>\n",
       "      <td>0</td>\n",
       "    </tr>\n",
       "    <tr>\n",
       "      <th>4</th>\n",
       "      <td>29</td>\n",
       "      <td>1</td>\n",
       "      <td>8</td>\n",
       "      <td>1</td>\n",
       "      <td>1</td>\n",
       "      <td>1</td>\n",
       "      <td>1</td>\n",
       "      <td>0</td>\n",
       "      <td>0</td>\n",
       "      <td>0</td>\n",
       "    </tr>\n",
       "  </tbody>\n",
       "</table>\n",
       "</div>"
      ],
      "text/plain": [
       "   AGE  IS_COBRAND  YEARS_IN_PROGRAM  IS_AIRACCRUAL  IS_HOTELREDEMPTION  \\\n",
       "0   60           0                 3              1                   0   \n",
       "1   74           1                 2              0                   1   \n",
       "2   29           0                11              0                   1   \n",
       "3   25           0                 3              1                   1   \n",
       "4   29           1                 8              1                   1   \n",
       "\n",
       "   IS_INACTIVE  base  gold  platinum  silver  \n",
       "0            1     0     1         0       0  \n",
       "1            0     1     0         0       0  \n",
       "2            0     0     1         0       0  \n",
       "3            0     0     1         0       0  \n",
       "4            1     1     0         0       0  "
      ]
     },
     "execution_count": 60,
     "metadata": {},
     "output_type": "execute_result"
    }
   ],
   "source": [
    "air.head()"
   ]
  },
  {
   "cell_type": "code",
   "execution_count": 61,
   "metadata": {},
   "outputs": [],
   "source": [
    "Xs=air.drop(['IS_INACTIVE'],axis=1)\n",
    "Y=air['IS_INACTIVE'].values.reshape(-1,1)"
   ]
  },
  {
   "cell_type": "code",
   "execution_count": 62,
   "metadata": {},
   "outputs": [
    {
     "data": {
      "text/html": [
       "<div>\n",
       "<style scoped>\n",
       "    .dataframe tbody tr th:only-of-type {\n",
       "        vertical-align: middle;\n",
       "    }\n",
       "\n",
       "    .dataframe tbody tr th {\n",
       "        vertical-align: top;\n",
       "    }\n",
       "\n",
       "    .dataframe thead th {\n",
       "        text-align: right;\n",
       "    }\n",
       "</style>\n",
       "<table border=\"1\" class=\"dataframe\">\n",
       "  <thead>\n",
       "    <tr style=\"text-align: right;\">\n",
       "      <th></th>\n",
       "      <th>AGE</th>\n",
       "      <th>IS_COBRAND</th>\n",
       "      <th>YEARS_IN_PROGRAM</th>\n",
       "      <th>IS_AIRACCRUAL</th>\n",
       "      <th>IS_HOTELREDEMPTION</th>\n",
       "      <th>base</th>\n",
       "      <th>gold</th>\n",
       "      <th>platinum</th>\n",
       "      <th>silver</th>\n",
       "    </tr>\n",
       "  </thead>\n",
       "  <tbody>\n",
       "    <tr>\n",
       "      <th>0</th>\n",
       "      <td>60</td>\n",
       "      <td>0</td>\n",
       "      <td>3</td>\n",
       "      <td>1</td>\n",
       "      <td>0</td>\n",
       "      <td>0</td>\n",
       "      <td>1</td>\n",
       "      <td>0</td>\n",
       "      <td>0</td>\n",
       "    </tr>\n",
       "    <tr>\n",
       "      <th>1</th>\n",
       "      <td>74</td>\n",
       "      <td>1</td>\n",
       "      <td>2</td>\n",
       "      <td>0</td>\n",
       "      <td>1</td>\n",
       "      <td>1</td>\n",
       "      <td>0</td>\n",
       "      <td>0</td>\n",
       "      <td>0</td>\n",
       "    </tr>\n",
       "    <tr>\n",
       "      <th>2</th>\n",
       "      <td>29</td>\n",
       "      <td>0</td>\n",
       "      <td>11</td>\n",
       "      <td>0</td>\n",
       "      <td>1</td>\n",
       "      <td>0</td>\n",
       "      <td>1</td>\n",
       "      <td>0</td>\n",
       "      <td>0</td>\n",
       "    </tr>\n",
       "    <tr>\n",
       "      <th>3</th>\n",
       "      <td>25</td>\n",
       "      <td>0</td>\n",
       "      <td>3</td>\n",
       "      <td>1</td>\n",
       "      <td>1</td>\n",
       "      <td>0</td>\n",
       "      <td>1</td>\n",
       "      <td>0</td>\n",
       "      <td>0</td>\n",
       "    </tr>\n",
       "    <tr>\n",
       "      <th>4</th>\n",
       "      <td>29</td>\n",
       "      <td>1</td>\n",
       "      <td>8</td>\n",
       "      <td>1</td>\n",
       "      <td>1</td>\n",
       "      <td>1</td>\n",
       "      <td>0</td>\n",
       "      <td>0</td>\n",
       "      <td>0</td>\n",
       "    </tr>\n",
       "  </tbody>\n",
       "</table>\n",
       "</div>"
      ],
      "text/plain": [
       "   AGE  IS_COBRAND  YEARS_IN_PROGRAM  IS_AIRACCRUAL  IS_HOTELREDEMPTION  base  \\\n",
       "0   60           0                 3              1                   0     0   \n",
       "1   74           1                 2              0                   1     1   \n",
       "2   29           0                11              0                   1     0   \n",
       "3   25           0                 3              1                   1     0   \n",
       "4   29           1                 8              1                   1     1   \n",
       "\n",
       "   gold  platinum  silver  \n",
       "0     1         0       0  \n",
       "1     0         0       0  \n",
       "2     1         0       0  \n",
       "3     1         0       0  \n",
       "4     0         0       0  "
      ]
     },
     "execution_count": 62,
     "metadata": {},
     "output_type": "execute_result"
    }
   ],
   "source": [
    "Xs.head()"
   ]
  },
  {
   "cell_type": "markdown",
   "metadata": {},
   "source": [
    "## RANDOM FOREST CLASSIFIER"
   ]
  },
  {
   "cell_type": "code",
   "execution_count": 63,
   "metadata": {},
   "outputs": [],
   "source": [
    "from sklearn.ensemble import RandomForestClassifier"
   ]
  },
  {
   "cell_type": "code",
   "execution_count": 64,
   "metadata": {},
   "outputs": [
    {
     "data": {
      "text/plain": [
       "RandomForestClassifier(n_estimators=10, n_jobs=1)"
      ]
     },
     "execution_count": 64,
     "metadata": {},
     "output_type": "execute_result"
    }
   ],
   "source": [
    "RandomForestClassifier(n_estimators=10, criterion='gini', max_depth=None,min_samples_split=2, min_samples_leaf=1, min_weight_fraction_leaf=0.0, max_features='auto', max_leaf_nodes=None,bootstrap=True, oob_score=False, n_jobs=1, random_state=None, verbose=0, warm_start=False,class_weight=None)"
   ]
  },
  {
   "cell_type": "code",
   "execution_count": 65,
   "metadata": {},
   "outputs": [
    {
     "name": "stderr",
     "output_type": "stream",
     "text": [
      "/var/folders/bm/l2zpyjxn2gqg_1d20xgx5z0w0000gn/T/ipykernel_32255/2691818216.py:3: DataConversionWarning: A column-vector y was passed when a 1d array was expected. Please change the shape of y to (n_samples,), for example using ravel().\n",
      "  clf.fit(features, target)\n"
     ]
    },
    {
     "data": {
      "text/plain": [
       "array([[8159, 8278],\n",
       "       [8392, 8171]])"
      ]
     },
     "execution_count": 65,
     "metadata": {},
     "output_type": "execute_result"
    }
   ],
   "source": [
    "def random_forest_classifier(features, target):\n",
    "    clf = RandomForestClassifier(random_state=84)\n",
    "    clf.fit(features, target)\n",
    "    return clf\n",
    "from sklearn.model_selection import train_test_split\n",
    "# implementing train-test-split\n",
    "X_train, X_test, y_train, y_test = train_test_split(Xs, Y, test_size=0.33, random_state=66)\n",
    "trained_model = random_forest_classifier(X_train,y_train)\n",
    "predictions = trained_model.predict(X_test)\n",
    "confusion_matrix1=confusion_matrix(y_test,predictions)\n",
    "confusion_matrix1"
   ]
  },
  {
   "cell_type": "code",
   "execution_count": 66,
   "metadata": {},
   "outputs": [
    {
     "name": "stdout",
     "output_type": "stream",
     "text": [
      "49.484848484848484\n"
     ]
    }
   ],
   "source": [
    "accuracy=(sum(np.diagonal(confusion_matrix1))/np.sum(confusion_matrix1))*100\n",
    "print(accuracy)"
   ]
  },
  {
   "cell_type": "code",
   "execution_count": null,
   "metadata": {},
   "outputs": [],
   "source": []
  },
  {
   "cell_type": "markdown",
   "metadata": {},
   "source": [
    "## DECISION TREE CLASSIFIER"
   ]
  },
  {
   "cell_type": "code",
   "execution_count": 67,
   "metadata": {},
   "outputs": [],
   "source": [
    "from sklearn.tree import DecisionTreeClassifier # Import Decision Tree Classifier\n",
    "clf2 = DecisionTreeClassifier()\n",
    "\n",
    "# Train Decision Tree Classifer\n",
    "clf2 = clf2.fit(X_train,y_train)\n",
    "\n",
    "#Predict the response for test dataset\n",
    "y_pred = clf2.predict(X_test)"
   ]
  },
  {
   "cell_type": "code",
   "execution_count": 68,
   "metadata": {},
   "outputs": [],
   "source": [
    "accuracy1=metrics.accuracy_score(y_test, y_pred)"
   ]
  },
  {
   "cell_type": "code",
   "execution_count": 69,
   "metadata": {},
   "outputs": [
    {
     "data": {
      "text/plain": [
       "49.654545454545456"
      ]
     },
     "execution_count": 69,
     "metadata": {},
     "output_type": "execute_result"
    }
   ],
   "source": [
    "accuracy1*100"
   ]
  },
  {
   "cell_type": "markdown",
   "metadata": {},
   "source": [
    "\n",
    "# INTERFACING"
   ]
  },
  {
   "cell_type": "code",
   "execution_count": 70,
   "metadata": {},
   "outputs": [
    {
     "name": "stdout",
     "output_type": "stream",
     "text": [
      "Requirement already satisfied: flask in /Users/noshitha/opt/anaconda3/lib/python3.9/site-packages (1.1.2)\n",
      "Requirement already satisfied: flask-ngrok in /Users/noshitha/opt/anaconda3/lib/python3.9/site-packages (0.0.25)\n",
      "Requirement already satisfied: Jinja2>=2.10.1 in /Users/noshitha/opt/anaconda3/lib/python3.9/site-packages (from flask) (2.11.3)\n",
      "Requirement already satisfied: Werkzeug>=0.15 in /Users/noshitha/opt/anaconda3/lib/python3.9/site-packages (from flask) (2.0.2)\n",
      "Requirement already satisfied: click>=5.1 in /Users/noshitha/opt/anaconda3/lib/python3.9/site-packages (from flask) (8.0.3)\n",
      "Requirement already satisfied: itsdangerous>=0.24 in /Users/noshitha/opt/anaconda3/lib/python3.9/site-packages (from flask) (2.0.1)\n",
      "Requirement already satisfied: requests in /Users/noshitha/opt/anaconda3/lib/python3.9/site-packages (from flask-ngrok) (2.25.1)\n",
      "Requirement already satisfied: MarkupSafe>=0.23 in /Users/noshitha/opt/anaconda3/lib/python3.9/site-packages (from Jinja2>=2.10.1->flask) (1.1.1)\n",
      "Requirement already satisfied: urllib3<1.27,>=1.21.1 in /Users/noshitha/opt/anaconda3/lib/python3.9/site-packages (from requests->flask-ngrok) (1.26.7)\n",
      "Requirement already satisfied: certifi>=2017.4.17 in /Users/noshitha/opt/anaconda3/lib/python3.9/site-packages (from requests->flask-ngrok) (2021.10.8)\n",
      "Requirement already satisfied: idna<3,>=2.5 in /Users/noshitha/opt/anaconda3/lib/python3.9/site-packages (from requests->flask-ngrok) (2.10)\n",
      "Requirement already satisfied: chardet<5,>=3.0.2 in /Users/noshitha/opt/anaconda3/lib/python3.9/site-packages (from requests->flask-ngrok) (4.0.0)\n",
      "Note: you may need to restart the kernel to use updated packages.\n"
     ]
    }
   ],
   "source": [
    "pip install flask flask-ngrok\n"
   ]
  },
  {
   "cell_type": "code",
   "execution_count": null,
   "metadata": {},
   "outputs": [],
   "source": [
    "trained_model"
   ]
  },
  {
   "cell_type": "code",
   "execution_count": 72,
   "metadata": {},
   "outputs": [
    {
     "name": "stdout",
     "output_type": "stream",
     "text": [
      "Requirement already satisfied: flask in /Users/noshitha/opt/anaconda3/lib/python3.9/site-packages (1.1.2)\n",
      "Requirement already satisfied: Werkzeug>=0.15 in /Users/noshitha/opt/anaconda3/lib/python3.9/site-packages (from flask) (2.0.2)\n",
      "Requirement already satisfied: itsdangerous>=0.24 in /Users/noshitha/opt/anaconda3/lib/python3.9/site-packages (from flask) (2.0.1)\n",
      "Requirement already satisfied: click>=5.1 in /Users/noshitha/opt/anaconda3/lib/python3.9/site-packages (from flask) (8.0.3)\n",
      "Requirement already satisfied: Jinja2>=2.10.1 in /Users/noshitha/opt/anaconda3/lib/python3.9/site-packages (from flask) (2.11.3)\n",
      "Requirement already satisfied: MarkupSafe>=0.23 in /Users/noshitha/opt/anaconda3/lib/python3.9/site-packages (from Jinja2>=2.10.1->flask) (1.1.1)\n",
      "Note: you may need to restart the kernel to use updated packages.\n"
     ]
    }
   ],
   "source": [
    "pip install flask"
   ]
  },
  {
   "cell_type": "code",
   "execution_count": 73,
   "metadata": {},
   "outputs": [],
   "source": [
    "import pickle\n"
   ]
  },
  {
   "cell_type": "code",
   "execution_count": 95,
   "metadata": {},
   "outputs": [],
   "source": [
    "from flask import Flask, request, render_template\n",
    "import pickle\n",
    "import os\n",
    "\n",
    "# Create Flask app\n",
    "app = Flask(__name__)\n",
    "\n",
    "# Load the classifier\n",
    "classifier_path = 'classifier.pkl'\n",
    "if not os.path.isfile(classifier_path):\n",
    "    raise FileNotFoundError(f\"{classifier_path} not found in {os.getcwd()}\")\n",
    "\n",
    "with open(classifier_path, 'rb') as f:\n",
    "    clf = pickle.load(f)"
   ]
  },
  {
   "cell_type": "code",
   "execution_count": 96,
   "metadata": {},
   "outputs": [],
   "source": [
    "@app.route('/')\n",
    "def home():\n",
    "    return render_template('index.html')\n",
    "\n",
    "@app.route('/predict', methods=['POST'])\n",
    "def predict():\n",
    "    data = request.form\n",
    "    age = int(data['age'])\n",
    "    cobrand = int(data['cobrand'])\n",
    "    years = int(data['years'])\n",
    "    airaccural = int(data['airaccural'])\n",
    "    hotel = int(data['hotel'])\n",
    "    base = int(data['base'])\n",
    "    gold = int(data['gold'])\n",
    "    platinum = int(data['platinum'])\n",
    "    silver = int(data['silver'])\n",
    "    \n",
    "    prediction = clf.predict([[age, cobrand, years, airaccural, hotel, base,gold,platinum,silver]])\n",
    "    result = 'INACTIVE' if prediction[0] == 1 else 'ACTIVE'\n",
    "    return render_template('result.html', result=result)"
   ]
  },
  {
   "cell_type": "code",
   "execution_count": null,
   "metadata": {},
   "outputs": [
    {
     "name": "stdout",
     "output_type": "stream",
     "text": [
      " * Serving Flask app \"__main__\" (lazy loading)\n",
      " * Environment: production\n",
      "\u001b[31m   WARNING: This is a development server. Do not use it in a production deployment.\u001b[0m\n",
      "\u001b[2m   Use a production WSGI server instead.\u001b[0m\n",
      " * Debug mode: off\n"
     ]
    },
    {
     "name": "stderr",
     "output_type": "stream",
     "text": [
      " * Running on http://127.0.0.1:5000/ (Press CTRL+C to quit)\n",
      "127.0.0.1 - - [11/Jun/2024 17:38:18] \"GET / HTTP/1.1\" 200 -\n",
      "127.0.0.1 - - [11/Jun/2024 17:38:33] \"POST /predict HTTP/1.1\" 200 -\n"
     ]
    }
   ],
   "source": [
    "if __name__ == '__main__':\n",
    "    app.run()"
   ]
  },
  {
   "cell_type": "code",
   "execution_count": 81,
   "metadata": {
    "scrolled": true
   },
   "outputs": [
    {
     "data": {
      "text/html": [
       "<div>\n",
       "<style scoped>\n",
       "    .dataframe tbody tr th:only-of-type {\n",
       "        vertical-align: middle;\n",
       "    }\n",
       "\n",
       "    .dataframe tbody tr th {\n",
       "        vertical-align: top;\n",
       "    }\n",
       "\n",
       "    .dataframe thead th {\n",
       "        text-align: right;\n",
       "    }\n",
       "</style>\n",
       "<table border=\"1\" class=\"dataframe\">\n",
       "  <thead>\n",
       "    <tr style=\"text-align: right;\">\n",
       "      <th></th>\n",
       "      <th>AGE</th>\n",
       "      <th>IS_COBRAND</th>\n",
       "      <th>YEARS_IN_PROGRAM</th>\n",
       "      <th>IS_AIRACCRUAL</th>\n",
       "      <th>IS_HOTELREDEMPTION</th>\n",
       "      <th>base</th>\n",
       "      <th>gold</th>\n",
       "      <th>platinum</th>\n",
       "      <th>silver</th>\n",
       "    </tr>\n",
       "  </thead>\n",
       "  <tbody>\n",
       "    <tr>\n",
       "      <th>20818</th>\n",
       "      <td>72</td>\n",
       "      <td>0</td>\n",
       "      <td>4</td>\n",
       "      <td>0</td>\n",
       "      <td>1</td>\n",
       "      <td>1</td>\n",
       "      <td>0</td>\n",
       "      <td>0</td>\n",
       "      <td>0</td>\n",
       "    </tr>\n",
       "    <tr>\n",
       "      <th>51366</th>\n",
       "      <td>67</td>\n",
       "      <td>0</td>\n",
       "      <td>7</td>\n",
       "      <td>0</td>\n",
       "      <td>1</td>\n",
       "      <td>0</td>\n",
       "      <td>0</td>\n",
       "      <td>1</td>\n",
       "      <td>0</td>\n",
       "    </tr>\n",
       "    <tr>\n",
       "      <th>61821</th>\n",
       "      <td>25</td>\n",
       "      <td>0</td>\n",
       "      <td>11</td>\n",
       "      <td>1</td>\n",
       "      <td>0</td>\n",
       "      <td>0</td>\n",
       "      <td>1</td>\n",
       "      <td>0</td>\n",
       "      <td>0</td>\n",
       "    </tr>\n",
       "    <tr>\n",
       "      <th>38292</th>\n",
       "      <td>66</td>\n",
       "      <td>0</td>\n",
       "      <td>5</td>\n",
       "      <td>0</td>\n",
       "      <td>0</td>\n",
       "      <td>1</td>\n",
       "      <td>0</td>\n",
       "      <td>0</td>\n",
       "      <td>0</td>\n",
       "    </tr>\n",
       "    <tr>\n",
       "      <th>36183</th>\n",
       "      <td>64</td>\n",
       "      <td>1</td>\n",
       "      <td>11</td>\n",
       "      <td>0</td>\n",
       "      <td>1</td>\n",
       "      <td>1</td>\n",
       "      <td>0</td>\n",
       "      <td>0</td>\n",
       "      <td>0</td>\n",
       "    </tr>\n",
       "    <tr>\n",
       "      <th>...</th>\n",
       "      <td>...</td>\n",
       "      <td>...</td>\n",
       "      <td>...</td>\n",
       "      <td>...</td>\n",
       "      <td>...</td>\n",
       "      <td>...</td>\n",
       "      <td>...</td>\n",
       "      <td>...</td>\n",
       "      <td>...</td>\n",
       "    </tr>\n",
       "    <tr>\n",
       "      <th>55969</th>\n",
       "      <td>63</td>\n",
       "      <td>0</td>\n",
       "      <td>1</td>\n",
       "      <td>0</td>\n",
       "      <td>1</td>\n",
       "      <td>0</td>\n",
       "      <td>1</td>\n",
       "      <td>0</td>\n",
       "      <td>0</td>\n",
       "    </tr>\n",
       "    <tr>\n",
       "      <th>9200</th>\n",
       "      <td>57</td>\n",
       "      <td>1</td>\n",
       "      <td>2</td>\n",
       "      <td>0</td>\n",
       "      <td>0</td>\n",
       "      <td>1</td>\n",
       "      <td>0</td>\n",
       "      <td>0</td>\n",
       "      <td>0</td>\n",
       "    </tr>\n",
       "    <tr>\n",
       "      <th>28115</th>\n",
       "      <td>47</td>\n",
       "      <td>0</td>\n",
       "      <td>11</td>\n",
       "      <td>0</td>\n",
       "      <td>0</td>\n",
       "      <td>0</td>\n",
       "      <td>1</td>\n",
       "      <td>0</td>\n",
       "      <td>0</td>\n",
       "    </tr>\n",
       "    <tr>\n",
       "      <th>52351</th>\n",
       "      <td>19</td>\n",
       "      <td>0</td>\n",
       "      <td>1</td>\n",
       "      <td>0</td>\n",
       "      <td>0</td>\n",
       "      <td>0</td>\n",
       "      <td>0</td>\n",
       "      <td>1</td>\n",
       "      <td>0</td>\n",
       "    </tr>\n",
       "    <tr>\n",
       "      <th>18839</th>\n",
       "      <td>25</td>\n",
       "      <td>1</td>\n",
       "      <td>7</td>\n",
       "      <td>0</td>\n",
       "      <td>0</td>\n",
       "      <td>0</td>\n",
       "      <td>0</td>\n",
       "      <td>0</td>\n",
       "      <td>1</td>\n",
       "    </tr>\n",
       "  </tbody>\n",
       "</table>\n",
       "<p>33000 rows × 9 columns</p>\n",
       "</div>"
      ],
      "text/plain": [
       "       AGE  IS_COBRAND  YEARS_IN_PROGRAM  IS_AIRACCRUAL  IS_HOTELREDEMPTION  \\\n",
       "20818   72           0                 4              0                   1   \n",
       "51366   67           0                 7              0                   1   \n",
       "61821   25           0                11              1                   0   \n",
       "38292   66           0                 5              0                   0   \n",
       "36183   64           1                11              0                   1   \n",
       "...    ...         ...               ...            ...                 ...   \n",
       "55969   63           0                 1              0                   1   \n",
       "9200    57           1                 2              0                   0   \n",
       "28115   47           0                11              0                   0   \n",
       "52351   19           0                 1              0                   0   \n",
       "18839   25           1                 7              0                   0   \n",
       "\n",
       "       base  gold  platinum  silver  \n",
       "20818     1     0         0       0  \n",
       "51366     0     0         1       0  \n",
       "61821     0     1         0       0  \n",
       "38292     1     0         0       0  \n",
       "36183     1     0         0       0  \n",
       "...     ...   ...       ...     ...  \n",
       "55969     0     1         0       0  \n",
       "9200      1     0         0       0  \n",
       "28115     0     1         0       0  \n",
       "52351     0     0         1       0  \n",
       "18839     0     0         0       1  \n",
       "\n",
       "[33000 rows x 9 columns]"
      ]
     },
     "execution_count": 81,
     "metadata": {},
     "output_type": "execute_result"
    }
   ],
   "source": [
    "X_test"
   ]
  },
  {
   "cell_type": "code",
   "execution_count": null,
   "metadata": {},
   "outputs": [],
   "source": []
  }
 ],
 "metadata": {
  "kernelspec": {
   "display_name": "Python 3 (ipykernel)",
   "language": "python",
   "name": "python3"
  },
  "language_info": {
   "codemirror_mode": {
    "name": "ipython",
    "version": 3
   },
   "file_extension": ".py",
   "mimetype": "text/x-python",
   "name": "python",
   "nbconvert_exporter": "python",
   "pygments_lexer": "ipython3",
   "version": "3.9.7"
  }
 },
 "nbformat": 4,
 "nbformat_minor": 2
}
